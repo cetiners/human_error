{
 "cells": [
  {
   "cell_type": "code",
   "execution_count": 1,
   "metadata": {},
   "outputs": [
    {
     "name": "stdout",
     "output_type": "stream",
     "text": [
      "\u001b[H\u001b[2J"
     ]
    },
    {
     "name": "stderr",
     "output_type": "stream",
     "text": [
      "/Users/cetiners/Desktop/Thesis/human_error/map_manager/map_attributer.py:84: RuntimeWarning: invalid value encountered in true_divide\n",
      "  average = sum_/count\n"
     ]
    },
    {
     "name": "stdout",
     "output_type": "stream",
     "text": [
      "Centroids attributed, attributes centroited\n"
     ]
    }
   ],
   "source": [
    "from map_manager.map_generator import map\n",
    "from map_manager.world_encounters import *\n",
    "from tools.utils import required_n_enc\n",
    "\n",
    "from matplotlib import colors\n",
    "import matplotlib.pyplot as plt\n",
    "import numpy as np\n",
    "import pickle\n",
    "\n",
    "nw = map()\n",
    "\n",
    "nw.populate_map(n_locations=1024, name=\"terrain\",relaxed=True,k=100)\n",
    "nw.populate_map(n_locations=1024, name=\"civilisation\",relaxed=True,k=100)\n",
    "nw.populate_map(n_locations=1024, name=\"threat\",relaxed=True, k=100)\n",
    "\n",
    "nw.attribute_view(seed_1=24,seed_2=34,map_name=\"terrain\",view_name=\"terrain\")\n",
    "nw.attribute_view(seed_1=40,seed_2=50,map_name=\"civilisation\",view_name=\"civilisation\")\n",
    "nw.attribute_view(seed_1=34,seed_2=34,map_name=\"threat\",view_name=\"threat\",double=False)\n",
    "\n",
    "nw.attribute_centroids(\"terrain\")\n",
    "nw.land_mask()"
   ]
  },
  {
   "cell_type": "code",
   "execution_count": 2,
   "metadata": {},
   "outputs": [
    {
     "name": "stdout",
     "output_type": "stream",
     "text": [
      "Generating arctic_fox encounters, 30 required.\n"
     ]
    },
    {
     "ename": "TypeError",
     "evalue": "__init__() got an unexpected keyword argument 'world_atlas'",
     "output_type": "error",
     "traceback": [
      "\u001b[0;31m---------------------------------------------------------------------------\u001b[0m",
      "\u001b[0;31mTypeError\u001b[0m                                 Traceback (most recent call last)",
      "\u001b[1;32m/Users/cetiners/Desktop/Thesis/human_error/RUNLA_BENI_PULLA_BENI.ipynb Cell 2\u001b[0m in \u001b[0;36m<cell line: 2>\u001b[0;34m()\u001b[0m\n\u001b[1;32m      <a href='vscode-notebook-cell:/Users/cetiners/Desktop/Thesis/human_error/RUNLA_BENI_PULLA_BENI.ipynb#W2sZmlsZQ%3D%3D?line=0'>1</a>\u001b[0m encounters \u001b[39m=\u001b[39m w_encounter_manager(nw, [i \u001b[39mfor\u001b[39;00m i \u001b[39min\u001b[39;00m required_n_enc])\n\u001b[0;32m----> <a href='vscode-notebook-cell:/Users/cetiners/Desktop/Thesis/human_error/RUNLA_BENI_PULLA_BENI.ipynb#W2sZmlsZQ%3D%3D?line=1'>2</a>\u001b[0m encounters\u001b[39m.\u001b[39;49mlet_there_be_light()\n",
      "File \u001b[0;32m~/Desktop/Thesis/human_error/map_manager/world_encounters.py:316\u001b[0m, in \u001b[0;36mw_encounter_manager.let_there_be_light\u001b[0;34m(self)\u001b[0m\n\u001b[1;32m    312\u001b[0m \u001b[39mfor\u001b[39;00m encounter \u001b[39min\u001b[39;00m \u001b[39mself\u001b[39m\u001b[39m.\u001b[39mencounters:\n\u001b[1;32m    314\u001b[0m     \u001b[39mprint\u001b[39m(\u001b[39mf\u001b[39m\u001b[39m\"\u001b[39m\u001b[39mGenerating \u001b[39m\u001b[39m{\u001b[39;00mencounter\u001b[39m}\u001b[39;00m\u001b[39m encounters, \u001b[39m\u001b[39m{\u001b[39;00mrequired_n_enc[encounter]\u001b[39m}\u001b[39;00m\u001b[39m required.\u001b[39m\u001b[39m\"\u001b[39m)\n\u001b[0;32m--> 316\u001b[0m     pop \u001b[39m=\u001b[39m pack_population(\u001b[39mself\u001b[39;49m\u001b[39m.\u001b[39;49mmap,pop_size\u001b[39m=\u001b[39;49m\u001b[39m50\u001b[39;49m,pack_size\u001b[39m=\u001b[39;49m\u001b[39m100\u001b[39;49m,\u001b[39mtype\u001b[39;49m\u001b[39m=\u001b[39;49mencounter,world_atlas\u001b[39m=\u001b[39;49m\u001b[39mself\u001b[39;49m\u001b[39m.\u001b[39;49mcoordinates,yellow_pages\u001b[39m=\u001b[39;49m\u001b[39mself\u001b[39;49m\u001b[39m.\u001b[39;49mindividuals)\n\u001b[1;32m    317\u001b[0m     coord, inds \u001b[39m=\u001b[39m pop\u001b[39m.\u001b[39mevolve(mu_p\u001b[39m=\u001b[39m\u001b[39m0.25\u001b[39m,mutation\u001b[39m=\u001b[39m\u001b[39m\"\u001b[39m\u001b[39mcomplete\u001b[39m\u001b[39m\"\u001b[39m,crossover\u001b[39m=\u001b[39m\u001b[39m\"\u001b[39m\u001b[39max_pmx\u001b[39m\u001b[39m\"\u001b[39m)\n\u001b[1;32m    319\u001b[0m     \u001b[39mself\u001b[39m\u001b[39m.\u001b[39mcoordinates\u001b[39m.\u001b[39mappend(coord)\n",
      "\u001b[0;31mTypeError\u001b[0m: __init__() got an unexpected keyword argument 'world_atlas'"
     ]
    }
   ],
   "source": [
    "encounters = w_encounter_manager(nw, [i for i in required_n_enc])\n",
    "encounters.let_there_be_light()"
   ]
  },
  {
   "cell_type": "code",
   "execution_count": null,
   "metadata": {},
   "outputs": [],
   "source": [
    "with open('encounter_inds', 'wb') as f:\n",
    "  pickle.dump(encounters.individuals, f)\n",
    "\n",
    "with open('encounter_coords', 'wb') as f:\n",
    "  pickle.dump(encounters.coordinates, f)\n",
    "\n",
    "a = encounters.coordinates\n",
    "cmap = colors.ListedColormap([\"dodgerblue\",\"white\",\"yellowgreen\",\"khaki\",\"lawngreen\",\"slategrey\",\"darkgreen\"])\n",
    "civ = nw.views[\"civilisation\"].copy()\n",
    "ter = nw.views[\"terrain\"].copy()\n",
    "\n",
    "fig, ax = plt.subplots(1,2)\n",
    "fig.set_dpi(150)\n",
    "fig.set_size_inches(12, 8)\n",
    "\n",
    "\n",
    "ax[0].imshow(ter.T,cmap=cmap,alpha=.66)\n",
    "ax[0].set_title(\"Terrain\")\n",
    "ax[0].scatter(x=[i[0] for i in a], y=[i[1] for i in a],color=\"Black\",s=25,marker=\"1\")\n",
    "\n",
    "ax[1].imshow(civ.T,cmap=\"Blues\",alpha=0.66)\n",
    "ax[1].set_title(\"Civilisation\")\n",
    "ax[1].scatter(x=[i[0] for i in a], y=[i[1] for i in a],color=\"Black\",s=25,marker=\"1\")\n",
    "\n",
    "plt.savefig(\"populated_map.png\")"
   ]
  }
 ],
 "metadata": {
  "kernelspec": {
   "display_name": "Python 3.8.2 ('base')",
   "language": "python",
   "name": "python3"
  },
  "language_info": {
   "codemirror_mode": {
    "name": "ipython",
    "version": 3
   },
   "file_extension": ".py",
   "mimetype": "text/x-python",
   "name": "python",
   "nbconvert_exporter": "python",
   "pygments_lexer": "ipython3",
   "version": "3.8.2"
  },
  "orig_nbformat": 4,
  "vscode": {
   "interpreter": {
    "hash": "146f15e2230608c28443929e64adcd60233b3a921e350bba4bd151e87ecd2077"
   }
  }
 },
 "nbformat": 4,
 "nbformat_minor": 2
}
