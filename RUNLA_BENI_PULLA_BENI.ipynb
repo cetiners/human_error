{
 "cells": [
  {
   "cell_type": "code",
   "execution_count": null,
   "metadata": {},
   "outputs": [],
   "source": [
    "!pip install skimage\n",
    "!pip install pmdarima"
   ]
  },
  {
   "cell_type": "code",
   "execution_count": null,
   "metadata": {},
   "outputs": [],
   "source": [
    "from map_manager.map_generator import map\n",
    "from map_manager.world_encounters import *\n",
    "from tools.utils import required_n_enc\n",
    "\n",
    "from matplotlib import colors\n",
    "import matplotlib.pyplot as plt\n",
    "import numpy as np\n",
    "import pickle\n",
    "\n",
    "nw = map()\n",
    "\n",
    "nw.populate_map(n_locations=1024, name=\"terrain\",relaxed=True,k=100)\n",
    "nw.populate_map(n_locations=1024, name=\"civilisation\",relaxed=True,k=100)\n",
    "nw.populate_map(n_locations=1024, name=\"threat\",relaxed=True, k=100)\n",
    "\n",
    "nw.attribute_view(seed_1=24,seed_2=34,map_name=\"terrain\",view_name=\"terrain\")\n",
    "nw.attribute_view(seed_1=40,seed_2=50,map_name=\"civilisation\",view_name=\"civilisation\")\n",
    "nw.attribute_view(seed_1=34,seed_2=34,map_name=\"threat\",view_name=\"threat\",double=False)\n",
    "\n",
    "nw.attribute_centroids(\"terrain\")\n",
    "nw.land_mask()"
   ]
  },
  {
   "cell_type": "code",
   "execution_count": 2,
   "metadata": {},
   "outputs": [],
   "source": [
    "encounters = w_encounter_manager(nw, [i for i in required_n_enc])\n",
    "encounters.let_there_be_light()"
   ]
  },
  {
   "cell_type": "code",
   "execution_count": null,
   "metadata": {},
   "outputs": [],
   "source": [
    "with open('encounter_inds', 'wb') as f:\n",
    "  pickle.dump(encounters.individuals, f)\n",
    "\n",
    "with open('encounter_coords', 'wb') as f:\n",
    "  pickle.dump(encounters.coordinates, f)\n",
    "\n",
    "a = encounters.coordinates\n",
    "cmap = colors.ListedColormap([\"dodgerblue\",\"white\",\"yellowgreen\",\"khaki\",\"lawngreen\",\"slategrey\",\"darkgreen\"])\n",
    "civ = nw.views[\"civilisation\"].copy()\n",
    "ter = nw.views[\"terrain\"].copy()\n",
    "\n",
    "fig, ax = plt.subplots(1,2)\n",
    "fig.set_dpi(150)\n",
    "fig.set_size_inches(12, 8)\n",
    "\n",
    "\n",
    "ax[0].imshow(ter.T,cmap=cmap,alpha=.66)\n",
    "ax[0].set_title(\"Terrain\")\n",
    "ax[0].scatter(x=[i[0] for i in a], y=[i[1] for i in a],color=\"Black\",s=25,marker=\"1\")\n",
    "\n",
    "ax[1].imshow(civ.T,cmap=\"Blues\",alpha=0.66)\n",
    "ax[1].set_title(\"Civilisation\")\n",
    "ax[1].scatter(x=[i[0] for i in a], y=[i[1] for i in a],color=\"Black\",s=25,marker=\"1\")\n",
    "\n",
    "plt.savefig(\"populated_map.png\")"
   ]
  },
  {
   "cell_type": "code",
   "execution_count": null,
   "metadata": {},
   "outputs": [],
   "source": []
  }
 ],
 "metadata": {
  "kernelspec": {
   "display_name": "Python 3.8.2 ('base')",
   "language": "python",
   "name": "python3"
  },
  "language_info": {
   "codemirror_mode": {
    "name": "ipython",
    "version": 3
   },
   "file_extension": ".py",
   "mimetype": "text/x-python",
   "name": "python",
   "nbconvert_exporter": "python",
   "pygments_lexer": "ipython3",
   "version": "3.8.2"
  },
  "orig_nbformat": 4,
  "vscode": {
   "interpreter": {
    "hash": "146f15e2230608c28443929e64adcd60233b3a921e350bba4bd151e87ecd2077"
   }
  }
 },
 "nbformat": 4,
 "nbformat_minor": 2
}
