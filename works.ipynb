{
 "cells": [
  {
   "cell_type": "code",
   "execution_count": 1,
   "metadata": {},
   "outputs": [
    {
     "name": "stdout",
     "output_type": "stream",
     "text": [
      "\u001b[H\u001b[2J"
     ]
    },
    {
     "ename": "ModuleNotFoundError",
     "evalue": "No module named 'freytags_fitness'",
     "output_type": "error",
     "traceback": [
      "\u001b[0;31m---------------------------------------------------------------------------\u001b[0m",
      "\u001b[0;31mModuleNotFoundError\u001b[0m                       Traceback (most recent call last)",
      "\u001b[1;32m/Users/cetiners/Desktop/Thesis/human_error/works.ipynb Cell 1\u001b[0m in \u001b[0;36m<cell line: 5>\u001b[0;34m()\u001b[0m\n\u001b[1;32m      <a href='vscode-notebook-cell:/Users/cetiners/Desktop/Thesis/human_error/works.ipynb#W0sZmlsZQ%3D%3D?line=2'>3</a>\u001b[0m \u001b[39mimport\u001b[39;00m \u001b[39mpickle\u001b[39;00m\n\u001b[1;32m      <a href='vscode-notebook-cell:/Users/cetiners/Desktop/Thesis/human_error/works.ipynb#W0sZmlsZQ%3D%3D?line=3'>4</a>\u001b[0m \u001b[39mfrom\u001b[39;00m \u001b[39mmatplotlib\u001b[39;00m \u001b[39mimport\u001b[39;00m colors\n\u001b[0;32m----> <a href='vscode-notebook-cell:/Users/cetiners/Desktop/Thesis/human_error/works.ipynb#W0sZmlsZQ%3D%3D?line=4'>5</a>\u001b[0m \u001b[39mfrom\u001b[39;00m \u001b[39mquest_engine\u001b[39;00m\u001b[39m.\u001b[39;00m\u001b[39mquest_generator\u001b[39;00m \u001b[39mimport\u001b[39;00m \u001b[39m*\u001b[39m\n\u001b[1;32m      <a href='vscode-notebook-cell:/Users/cetiners/Desktop/Thesis/human_error/works.ipynb#W0sZmlsZQ%3D%3D?line=5'>6</a>\u001b[0m \u001b[39mimport\u001b[39;00m \u001b[39mmatplotlib\u001b[39;00m\u001b[39m.\u001b[39;00m\u001b[39mpyplot\u001b[39;00m \u001b[39mas\u001b[39;00m \u001b[39mplt\u001b[39;00m\n",
      "File \u001b[0;32m~/Desktop/Thesis/human_error/quest_engine/quest_generator.py:4\u001b[0m, in \u001b[0;36m<module>\u001b[0;34m\u001b[0m\n\u001b[1;32m      2\u001b[0m \u001b[39mimport\u001b[39;00m \u001b[39mnumpy\u001b[39;00m \u001b[39mas\u001b[39;00m \u001b[39mnp\u001b[39;00m\n\u001b[1;32m      3\u001b[0m \u001b[39mfrom\u001b[39;00m \u001b[39mtools\u001b[39;00m\u001b[39m.\u001b[39;00m\u001b[39mutils\u001b[39;00m \u001b[39mimport\u001b[39;00m basic_distance\n\u001b[0;32m----> 4\u001b[0m \u001b[39mfrom\u001b[39;00m \u001b[39mfreytags_fitness\u001b[39;00m \u001b[39mimport\u001b[39;00m freytags\n\u001b[1;32m      5\u001b[0m \u001b[39mfrom\u001b[39;00m \u001b[39mmap_engine\u001b[39;00m\u001b[39m.\u001b[39;00m\u001b[39mmap_attributer\u001b[39;00m \u001b[39mimport\u001b[39;00m view_noises\n\u001b[1;32m      6\u001b[0m \u001b[39mfrom\u001b[39;00m \u001b[39mquest_engine\u001b[39;00m\u001b[39m.\u001b[39;00m\u001b[39mquest_ga\u001b[39;00m\u001b[39m.\u001b[39;00m\u001b[39mselection\u001b[39;00m \u001b[39mimport\u001b[39;00m \u001b[39m*\u001b[39m\n",
      "\u001b[0;31mModuleNotFoundError\u001b[0m: No module named 'freytags_fitness'"
     ]
    }
   ],
   "source": [
    "from map_engine.map_generator import map\n",
    "from encounter_engine.world_encounters import *\n",
    "import pickle\n",
    "from matplotlib import colors\n",
    "from quest_engine.quest_generator import *\n",
    "import matplotlib.pyplot as plt"
   ]
  },
  {
   "cell_type": "code",
   "execution_count": null,
   "metadata": {},
   "outputs": [],
   "source": [
    "#nw = map()\n",
    "#nw.populate_map(n_locations=1024, name=\"terrain\", relaxed=True, k=100)\n",
    "#nw.populate_map(n_locations=4096, name=\"civilisation\", relaxed=True, k=250)\n",
    "#nw.populate_map(n_locations=1024, name=\"story_act\", relaxed=True, k=250)\n",
    "#nw.populate_map(n_locations=1024, name=\"threat\", relaxed=True, k=100)\n",
    "#\n",
    "#nw.attribute_view(seed_1=24, seed_2=34,\n",
    "#                  map_name=\"terrain\", view_name=\"terrain\")\n",
    "#nw.attribute_view(seed_1=98, seed_2=50, map_name=\"civilisation\",\n",
    "#                  view_name=\"civilisation\", double=False)\n",
    "#nw.attribute_view(seed_1=34, seed_2=34, map_name=\"threat\",\n",
    "#                  view_name=\"threat\", double=False)\n",
    "#nw.attribute_view(seed_1=16, seed_2=16, map_name=\"story_act\",\n",
    "#                  view_name=\"story_act\", double=False)\n",
    "#\n",
    "#nw.attribute_centroids(\"civilisation\")\n",
    "#nw.attribute_centroids(\"terrain\")\n",
    "#nw.land_mask()\n",
    "#\n",
    "#with open('map_nw', 'wb') as f:\n",
    "#    pickle.dump(nw, f)\n",
    "\n",
    "\n",
    "with open(\"map_nw\", \"rb\") as f:\n",
    "    nw = pickle.load(f)"
   ]
  },
  {
   "cell_type": "code",
   "execution_count": null,
   "metadata": {},
   "outputs": [],
   "source": [
    "qs = quest_pop(nw,act=2, pop_size=200, steps=3)\n",
    "q = qs.evolve(gens=59,early_stop=True, mu_p=0.40, xo=\"pmx\", mutation=\"random_point\",print_it=True)\n"
   ]
  },
  {
   "cell_type": "code",
   "execution_count": null,
   "metadata": {},
   "outputs": [],
   "source": [
    "q.summary()"
   ]
  },
  {
   "cell_type": "code",
   "execution_count": null,
   "metadata": {},
   "outputs": [],
   "source": [
    "(int(nw.views[\"threat\"][int(location[0]),int(location[1])]))"
   ]
  },
  {
   "cell_type": "code",
   "execution_count": null,
   "metadata": {},
   "outputs": [],
   "source": [
    "fn_list= []\n",
    "for i in b:\n",
    "    for j in i.path:\n",
    "        fn_list.append(j)"
   ]
  },
  {
   "cell_type": "code",
   "execution_count": null,
   "metadata": {},
   "outputs": [],
   "source": [
    "list(Counter(q.path_act).values()).index(max(Counter(q.path_act).values()))"
   ]
  },
  {
   "cell_type": "code",
   "execution_count": null,
   "metadata": {},
   "outputs": [],
   "source": [
    "max(q.path_act,key=q.path_act.count)"
   ]
  },
  {
   "cell_type": "code",
   "execution_count": null,
   "metadata": {},
   "outputs": [],
   "source": [
    "q.path_act"
   ]
  },
  {
   "cell_type": "code",
   "execution_count": null,
   "metadata": {},
   "outputs": [],
   "source": [
    "#q = sorted(qs.population, key=operator.attrgetter('fitness'))[-1]\n",
    "print(\"Total fitness\" ,q.fitness)\n",
    "print(\"Quest fitnesses\",q.fitnesses)\n",
    "print(\"Quest path\",q.path)\n",
    "print(\"Quest act\",q.path_act)\n",
    "print(\"Quest threat\",q.check_threat())\n",
    "print(\"Quest Freytags\", q.freytags_fitnesses)\n",
    "print(\"Quest \", q.freytags)"
   ]
  },
  {
   "cell_type": "code",
   "execution_count": null,
   "metadata": {},
   "outputs": [],
   "source": [
    "from collections import Counter\n",
    "\n",
    "\n",
    "list(Counter(q.path_act).values()).index(max(Counter(q.path_act).values()))"
   ]
  },
  {
   "cell_type": "code",
   "execution_count": null,
   "metadata": {},
   "outputs": [],
   "source": [
    "\n",
    "lst1, lst2 = zip(*sorted(qs.population, key=operator.attrgetter('fitness'))[-1].path)"
   ]
  },
  {
   "cell_type": "code",
   "execution_count": null,
   "metadata": {},
   "outputs": [],
   "source": [
    "lst1, lst2 = zip(*a)"
   ]
  },
  {
   "cell_type": "code",
   "execution_count": null,
   "metadata": {},
   "outputs": [],
   "source": [
    "\n",
    "cmap = colors.ListedColormap(\n",
    "    [\"blue\", \"white\", \"yellowgreen\", \"khaki\", \"lawngreen\", \"slategrey\", \"darkgreen\"])\n",
    "cmap_arcs = colors.ListedColormap(\n",
    "    [\"blue\", \"khaki\", \"khaki\", \"khaki\", \"khaki\", \"khaki\", \"khaki\", \"brown\", \"brown\", \"brown\", \"black\", ])\n",
    "\n",
    "ter = nw.views[\"terrain\"].copy()\n",
    "civ = nw.views[\"civilisation\"].copy()\n",
    "thr = nw.views[\"threat\"].copy()\n",
    "arc = nw.views[\"story_act\"].copy()\n",
    "\n",
    "fig, ax = plt.subplots(2, 2)\n",
    "fig.set_dpi(150)\n",
    "fig.set_size_inches(24, 24)\n",
    "\n",
    "ax[0, 1].imshow(ter.T, cmap=cmap, alpha=.66)\n",
    "ax[0, 1].set_title(\"Terrain\")\n",
    "ax[0, 1].scatter(lst1, lst2, color=\"black\", s=20)\n",
    "\n",
    "#ax[0, 1].scatter([i[0] for i in q.path], [i[1] for i in q.path], color=\"black\", s=15)\n",
    "#ax[0, 1].plot([i[0] for i in q.path], [i[1] for i in q.path], color=\"red\",linestyle=\"-.\",linewidth=1, alpha=.5)\n",
    "\n",
    "ax[1, 1].imshow(civ.T, cmap=cmap_arcs, alpha=0.66)\n",
    "ax[1, 1].set_title(\"Civilisation\")\n",
    "ax[1, 1].scatter(lst1, lst2, color=\"black\", s=20)\n",
    "\n",
    "#ax[1, 1].scatter([i[0] for i in q.path], [i[1] for i in q.path], color=\"black\", s=15)\n",
    "#ax[1, 1].plot([i[0] for i in q.path], [i[1] for i in q.path], color=\"red\",linestyle=\"-.\",linewidth=1, alpha=.5)\n",
    "\n",
    "ax[1, 0].imshow(thr.T, cmap=\"Reds\", alpha=0.66)\n",
    "ax[1, 0].set_title(\"Threat\")\n",
    "ax[1, 0].scatter(lst1, lst2, color=\"black\", s=20)\n",
    "\n",
    "#ax[1, 0].scatter([i[0] for i in q.path], [i[1] for i in q.path], color=\"black\", s=15)\n",
    "#ax[1, 0].plot([i[0] for i in q.path], [i[1] for i in q.path], color=\"red\",linestyle=\"-.\",linewidth=1, alpha=.5)\n",
    "\n",
    "ax[0, 0].imshow(arc.T, cmap=\"Blues\", alpha=0.66)\n",
    "ax[0, 0].set_title(\"Story Act\")\n",
    "ax[0, 0].scatter(lst1, lst2, color=\"black\", s=20)\n",
    "\n",
    "#ax[0, 0].scatter([i[0] for i in q.path], [i[1] for i in q.path], color=\"black\", s=15)\n",
    "#ax[0, 0].plot([i[0] for i in q.path], [i[1] for i in q.path], color=\"red\",linestyle=\"-.\",linewidth=1, alpha=.5)\n"
   ]
  },
  {
   "cell_type": "code",
   "execution_count": null,
   "metadata": {},
   "outputs": [],
   "source": [
    "fig.savefig(\"example_world_encounter.png\")"
   ]
  },
  {
   "cell_type": "code",
   "execution_count": null,
   "metadata": {},
   "outputs": [],
   "source": []
  },
  {
   "cell_type": "code",
   "execution_count": null,
   "metadata": {},
   "outputs": [],
   "source": []
  },
  {
   "cell_type": "code",
   "execution_count": null,
   "metadata": {},
   "outputs": [],
   "source": [
    "params = {\n",
    "    \"gens\": 100,\n",
    "    \"pop_size\": 200,\n",
    "    \"mu_p\": .5,\n",
    "    \"xo\": \"pmx\",\n",
    "    \"mutation\": \"random_point\",\n",
    "    \"print_it\": True\n",
    "}\n",
    "\n",
    "ql = quest_library(nw,shelf_size=100,params=params)"
   ]
  },
  {
   "cell_type": "code",
   "execution_count": null,
   "metadata": {},
   "outputs": [],
   "source": [
    "\n",
    "a = []\n",
    "for i in ql.library:\n",
    "    for j in i.path:\n",
    "        a.append(j)\n"
   ]
  },
  {
   "cell_type": "code",
   "execution_count": null,
   "metadata": {},
   "outputs": [],
   "source": []
  },
  {
   "cell_type": "code",
   "execution_count": null,
   "metadata": {},
   "outputs": [],
   "source": []
  }
 ],
 "metadata": {
  "interpreter": {
   "hash": "146f15e2230608c28443929e64adcd60233b3a921e350bba4bd151e87ecd2077"
  },
  "kernelspec": {
   "display_name": "Python 3.8.2 64-bit ('base': conda)",
   "name": "python3"
  },
  "language_info": {
   "codemirror_mode": {
    "name": "ipython",
    "version": 3
   },
   "file_extension": ".py",
   "mimetype": "text/x-python",
   "name": "python",
   "nbconvert_exporter": "python",
   "pygments_lexer": "ipython3",
   "version": "3.8.2"
  },
  "orig_nbformat": 4
 },
 "nbformat": 4,
 "nbformat_minor": 2
}
