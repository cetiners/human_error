{
 "cells": [
  {
   "cell_type": "code",
   "execution_count": 1,
   "metadata": {},
   "outputs": [
    {
     "name": "stdout",
     "output_type": "stream",
     "text": [
      "\u001b[H\u001b[2J"
     ]
    }
   ],
   "source": [
    "from map_manager.map_generator import map\n",
    "from map_manager.world_encounters import *\n",
    "import pickle\n",
    "from matplotlib import colors\n",
    "from tools.utils import required_n_enc\n",
    "from quest_engine.quest_generator import *\n",
    "from map_manager.noise import toddler\n",
    "import matplotlib.pyplot as plt\n",
    "from tools.utils import basic_distance"
   ]
  },
  {
   "cell_type": "code",
   "execution_count": 2,
   "metadata": {},
   "outputs": [],
   "source": [
    "#nw = map()\n",
    "\n",
    "#nw.populate_map(n_locations=1024, name=\"terrain\",relaxed=True,k=100)\n",
    "#nw.populate_map(n_locations=2048, name=\"civilisation\",relaxed=True,k=250)\n",
    "#nw.populate_map(n_locations=1024, name=\"threat\",relaxed=True, k=100)\n",
    "#nw.populate_map(n_locations=64, name=\"story_arc\",relaxed=True, k=100)\n",
    "#\n",
    "#\n",
    "#nw.attribute_view(seed_1=24,seed_2=34,map_name=\"terrain\",view_name=\"terrain\")\n",
    "#nw.attribute_view(seed_1=98,seed_2=50,map_name=\"civilisation\",view_name=\"civilisation\")\n",
    "#nw.attribute_view(seed_1=34,seed_2=34,map_name=\"threat\",view_name=\"threat\",double=False)\n",
    "#nw.attribute_view(seed_1=74,seed_2=74,map_name=\"story_arc\",view_name=\"story_arc\",double=True)\n",
    "#\n",
    "#\n",
    "#nw.attribute_centroids(\"civilisation\")\n",
    "#nw.attribute_centroids(\"terrain\")\n",
    "#nw.land_mask()\n",
    "#\n",
    "#\n",
    "#with open('map_nw', 'wb') as f:\n",
    "#    # Pickle the 'data' dictionary using the highest protocol available.\n",
    "#    pickle.dump(nw, f)\n",
    "\n",
    "\n",
    "with open(\"map_nw\", \"rb\") as f:\n",
    "    nw = pickle.load(f)\n",
    "\n"
   ]
  },
  {
   "cell_type": "markdown",
   "metadata": {},
   "source": [
    "#### - Questin ilk ve son adımının birden fazla keyi olabilir.(Init)\n",
    "#### - Arc arttıkça, questin o arc bölgesinde bitmesi şart. (Fitness func)"
   ]
  },
  {
   "cell_type": "code",
   "execution_count": 3,
   "metadata": {},
   "outputs": [],
   "source": [
    "q = quest(nw)"
   ]
  },
  {
   "cell_type": "code",
   "execution_count": 4,
   "metadata": {},
   "outputs": [],
   "source": [
    "q.point_distances()"
   ]
  },
  {
   "cell_type": "code",
   "execution_count": 5,
   "metadata": {},
   "outputs": [
    {
     "data": {
      "text/plain": [
       "{'key': {'dist_list': [[78.64890336171258], [247.89749897891267]],\n",
       "  'total_dist': 326.54640234062526},\n",
       " 'lock': {'dist_list': [[220.238507078122]], 'total_dist': 220.238507078122}}"
      ]
     },
     "execution_count": 5,
     "metadata": {},
     "output_type": "execute_result"
    }
   ],
   "source": [
    "\n",
    "distances = []\n",
    "for i in range(q.steps-1):\n",
    "    if len(k[i]) > 0:\n",
    "        dists = [(basic_distance(coord,k[i+1][0])) for coord in k[i]]\n",
    "        distances.append(dists)\n",
    "total_dist = 0\n",
    "for i in distances:\n",
    "    total_dist += min(i)\n"
   ]
  },
  {
   "cell_type": "code",
   "execution_count": 6,
   "metadata": {},
   "outputs": [
    {
     "data": {
      "text/plain": [
       "3"
      ]
     },
     "execution_count": 6,
     "metadata": {},
     "output_type": "execute_result"
    }
   ],
   "source": [
    "key 0 - lock 1 - key 1  - lock 2 - key 2\n",
    "\n",
    "# key-lock arası geçişleri hesapla"
   ]
  },
  {
   "cell_type": "code",
   "execution_count": 12,
   "metadata": {},
   "outputs": [
    {
     "name": "stdout",
     "output_type": "stream",
     "text": [
      "[[917.2, 954.3]]\n",
      "[[917.2, 954.3]]\n",
      "[[917.2, 954.3]]\n",
      "[[917.2, 954.3]]\n",
      "[[917.2, 954.3]]\n"
     ]
    }
   ],
   "source": [
    "for i in range(q.steps*2 -1):\n",
    "    distances = []\n",
    "    step_dist = 0\n",
    "    origin = \n",
    "    destination= \n",
    "    if step == 0:\n",
    "        print(q.key_coords[step])\n"
   ]
  },
  {
   "cell_type": "code",
   "execution_count": null,
   "metadata": {},
   "outputs": [],
   "source": [
    "random.randint(1, 2)"
   ]
  },
  {
   "cell_type": "code",
   "execution_count": null,
   "metadata": {},
   "outputs": [],
   "source": [
    "cmap = colors.ListedColormap([ \"blue\",\"white\",\"yellowgreen\",\"khaki\",\"lawngreen\",\"slategrey\",\"darkgreen\"])\n",
    "cmap_arcs = colors.ListedColormap([\"blue\",\"khaki\",\"khaki\",\"black\",])\n",
    "\n",
    "ter = nw.views[\"terrain\"].copy()\n",
    "civ = nw.views[\"civilisation\"].copy()\n",
    "thr = nw.views[\"threat\"].copy()\n",
    "arc = nw.views[\"story_arc\"].copy()\n",
    "\n",
    "\n",
    "fig, ax = plt.subplots(1,4)\n",
    "fig.set_dpi(150)\n",
    "fig.set_size_inches(12, 8)\n",
    "\n",
    "ax[0].imshow(ter.T,cmap=cmap,alpha=.66)\n",
    "ax[0].set_title(\"Terrain\")\n",
    "\n",
    "ax[1].imshow(civ.T,cmap=cmap_arcs,alpha=0.66)\n",
    "ax[1].set_title(\"Civilisation\")\n",
    "\n",
    "ax[2].imshow(thr.T,cmap=\"Reds\",alpha=0.66)\n",
    "ax[2].set_title(\"Threat\")\n",
    "\n",
    "ax[3].imshow(arc.T,cmap=\"Greens\",alpha=0.66)\n",
    "ax[3].set_title(\"Story Arc\")\n"
   ]
  },
  {
   "cell_type": "code",
   "execution_count": null,
   "metadata": {},
   "outputs": [],
   "source": [
    "nw.views[\"civilisation\"]"
   ]
  },
  {
   "cell_type": "code",
   "execution_count": null,
   "metadata": {},
   "outputs": [],
   "source": []
  }
 ],
 "metadata": {
  "interpreter": {
   "hash": "146f15e2230608c28443929e64adcd60233b3a921e350bba4bd151e87ecd2077"
  },
  "kernelspec": {
   "display_name": "Python 3.8.2 64-bit ('base': conda)",
   "name": "python3"
  },
  "language_info": {
   "codemirror_mode": {
    "name": "ipython",
    "version": 3
   },
   "file_extension": ".py",
   "mimetype": "text/x-python",
   "name": "python",
   "nbconvert_exporter": "python",
   "pygments_lexer": "ipython3",
   "version": "3.8.2"
  },
  "orig_nbformat": 4
 },
 "nbformat": 4,
 "nbformat_minor": 2
}
