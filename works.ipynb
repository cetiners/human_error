{
 "cells": [
  {
   "cell_type": "code",
   "execution_count": 2,
   "metadata": {},
   "outputs": [
    {
     "name": "stdout",
     "output_type": "stream",
     "text": [
      "\u001b[H\u001b[2J"
     ]
    }
   ],
   "source": [
    "from map_engine.map_generator import map\n",
    "from map_engine.world_encounters import *\n",
    "import pickle\n",
    "from matplotlib import colors\n",
    "from quest_engine.quest_generator import *\n",
    "import matplotlib.pyplot as plt"
   ]
  },
  {
   "cell_type": "code",
   "execution_count": 3,
   "metadata": {},
   "outputs": [],
   "source": [
    "#nw = map()\n",
    "#nw.populate_map(n_locations=2048, name=\"terrain\", relaxed=True, k=100)\n",
    "#nw.populate_map(n_locations=4096, name=\"civilisation\", relaxed=True, k=250)\n",
    "#nw.populate_map(n_locations=12, name=\"story_act\", relaxed=True, k=100)\n",
    "#nw.populate_map(n_locations=1024, name=\"threat\", relaxed=True, k=100)\n",
    "#\n",
    "#nw.attribute_view(seed_1=24, seed_2=34,\n",
    "#                  map_name=\"terrain\", view_name=\"terrain\")\n",
    "#nw.attribute_view(seed_1=98, seed_2=50, map_name=\"civilisation\",\n",
    "#                  view_name=\"civilisation\", double=False)\n",
    "#nw.attribute_view(seed_1=34, seed_2=34, map_name=\"threat\",\n",
    "#                  view_name=\"threat\", double=False)\n",
    "#nw.attribute_view(seed_1=16, seed_2=16, map_name=\"story_act\",\n",
    "#                  view_name=\"story_act\", double=False)\n",
    "#\n",
    "#nw.attribute_centroids(\"civilisation\")\n",
    "#nw.attribute_centroids(\"terrain\")\n",
    "#nw.land_mask()\n",
    "#\n",
    "#with open('map_nw', 'wb') as f:\n",
    "#    pickle.dump(nw, f)\n",
    "\n",
    "\n",
    "with open(\"map_nw\", \"rb\") as f:\n",
    "    nw = pickle.load(f)"
   ]
  },
  {
   "cell_type": "code",
   "execution_count": 4,
   "metadata": {},
   "outputs": [],
   "source": [
    "import pandas as pd\n",
    "df = pd.DataFrame()\n",
    "for i in [\"pmx\",\"single_point\"]:\n",
    "    for j in [\"point\",\"complete\"]:\n",
    "        qs = quest_pop(nw,act=2,pop_size=400,steps=5)\n",
    "        a = qs.evolve(gens=500,early_stop=True, mu_p=0.25, xo=i, mutation=j)\n",
    "        df[i+\"_\"+j] = a\n",
    "\n",
    "\n",
    "#qs = quest_pop(nw,act=3, pop_size=100, steps=5)\n",
    "#qs.evolve(gens=500, mu_p=0.25, xo=\"pmx\", mutation=\"point\",print_it=True)\n",
    "\n",
    "#df[\"PMX_Point\"] = a"
   ]
  },
  {
   "cell_type": "code",
   "execution_count": null,
   "metadata": {},
   "outputs": [],
   "source": [
    "import plotly.express as px\n",
    "\n",
    "px.line(df)"
   ]
  },
  {
   "cell_type": "code",
   "execution_count": null,
   "metadata": {},
   "outputs": [],
   "source": [
    "q = sorted(qs.population, key=operator.attrgetter('fitness'))[-1]"
   ]
  },
  {
   "cell_type": "code",
   "execution_count": null,
   "metadata": {},
   "outputs": [],
   "source": [
    "#lst1, lst2 = zip(*sorted(qs.population, key=operator.attrgetter('fitness'))[-1].path)"
   ]
  },
  {
   "cell_type": "code",
   "execution_count": null,
   "metadata": {},
   "outputs": [],
   "source": [
    "cmap = colors.ListedColormap(\n",
    "    [\"blue\", \"white\", \"yellowgreen\", \"khaki\", \"lawngreen\", \"slategrey\", \"darkgreen\"])\n",
    "cmap_arcs = colors.ListedColormap(\n",
    "    [\"blue\", \"khaki\", \"khaki\", \"khaki\", \"khaki\", \"khaki\", \"khaki\", \"brown\", \"brown\", \"brown\", \"black\", ])\n",
    "\n",
    "ter = nw.views[\"terrain\"].copy()\n",
    "civ = nw.views[\"civilisation\"].copy()\n",
    "thr = nw.views[\"threat\"].copy()\n",
    "arc = nw.views[\"story_act\"].copy()\n",
    "\n",
    "fig, ax = plt.subplots(2, 2)\n",
    "fig.set_dpi(150)\n",
    "fig.set_size_inches(24, 24)\n",
    "\n",
    "ax[0, 1].imshow(ter.T, cmap=cmap, alpha=.66)\n",
    "ax[0, 1].set_title(\"Terrain\")\n",
    "#ax[0, 1].scatter(lst1, lst2, color=\"black\", s=5)\n",
    "\n",
    "ax[0, 1].scatter([i[0] for i in q.path], [i[1] for i in q.path], color=\"black\", s=15)\n",
    "ax[0, 1].plot([i[0] for i in q.path], [i[1] for i in q.path], color=\"red\",linestyle=\"-.\",linewidth=1, alpha=.5)\n",
    "\n",
    "ax[1, 1].imshow(civ.T, cmap=cmap_arcs, alpha=0.66)\n",
    "ax[1, 1].set_title(\"Civilisation\")\n",
    "#ax[1, 1].scatter(lst1, lst2, color=\"black\", s=5)\n",
    "\n",
    "ax[1, 1].scatter([i[0] for i in q.path], [i[1] for i in q.path], color=\"black\", s=15)\n",
    "ax[1, 1].plot([i[0] for i in q.path], [i[1] for i in q.path], color=\"red\",linestyle=\"-.\",linewidth=1, alpha=.5)\n",
    "\n",
    "ax[1, 0].imshow(thr.T, cmap=\"Reds\", alpha=0.66)\n",
    "ax[1, 0].set_title(\"Threat\")\n",
    "#ax[1, 0].scatter(lst1, lst2, color=\"black\", s=5)\n",
    "\n",
    "ax[1, 0].scatter([i[0] for i in q.path], [i[1] for i in q.path], color=\"black\", s=15)\n",
    "ax[1, 0].plot([i[0] for i in q.path], [i[1] for i in q.path], color=\"red\",linestyle=\"-.\",linewidth=1, alpha=.5)\n",
    "\n",
    "ax[0, 0].imshow(arc.T, cmap=\"Blues\", alpha=0.66)\n",
    "ax[0, 0].set_title(\"Story Act\")\n",
    "#ax[0, 0].scatter(lst1, lst2, color=\"black\", s=5)\n",
    "\n",
    "ax[0, 0].scatter([i[0] for i in q.path], [i[1] for i in q.path], color=\"black\", s=15)\n",
    "ax[0, 0].plot([i[0] for i in q.path], [i[1] for i in q.path], color=\"red\",linestyle=\"-.\",linewidth=1, alpha=.5)\n"
   ]
  },
  {
   "cell_type": "code",
   "execution_count": null,
   "metadata": {},
   "outputs": [],
   "source": [
    "fig.savefig(\"example_world_encounter.png\")"
   ]
  },
  {
   "cell_type": "code",
   "execution_count": null,
   "metadata": {},
   "outputs": [],
   "source": []
  },
  {
   "cell_type": "code",
   "execution_count": null,
   "metadata": {},
   "outputs": [],
   "source": []
  }
 ],
 "metadata": {
  "interpreter": {
   "hash": "146f15e2230608c28443929e64adcd60233b3a921e350bba4bd151e87ecd2077"
  },
  "kernelspec": {
   "display_name": "Python 3.8.2 64-bit ('base': conda)",
   "name": "python3"
  },
  "language_info": {
   "codemirror_mode": {
    "name": "ipython",
    "version": 3
   },
   "file_extension": ".py",
   "mimetype": "text/x-python",
   "name": "python",
   "nbconvert_exporter": "python",
   "pygments_lexer": "ipython3",
   "version": "3.8.2"
  },
  "orig_nbformat": 4
 },
 "nbformat": 4,
 "nbformat_minor": 2
}
