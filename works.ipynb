{
 "cells": [
  {
   "cell_type": "code",
   "execution_count": 1,
   "metadata": {},
   "outputs": [
    {
     "name": "stderr",
     "output_type": "stream",
     "text": [
      "/Users/cetiners/opt/anaconda3/lib/python3.8/site-packages/statsmodels/compat/pandas.py:61: FutureWarning: pandas.Int64Index is deprecated and will be removed from pandas in a future version. Use pandas.Index with the appropriate dtype instead.\n",
      "  from pandas import Int64Index as NumericIndex\n"
     ]
    },
    {
     "name": "stdout",
     "output_type": "stream",
     "text": [
      "\u001b[H\u001b[2J"
     ]
    }
   ],
   "source": [
    "from map_manager.map_generator import map\n",
    "from map_manager.noise import toddler"
   ]
  },
  {
   "cell_type": "code",
   "execution_count": 2,
   "metadata": {},
   "outputs": [
    {
     "name": "stderr",
     "output_type": "stream",
     "text": [
      "/Users/cetiners/Desktop/Thesis/human_error/map_manager/map_attributer.py:82: RuntimeWarning: invalid value encountered in true_divide\n",
      "  average = sum_/count\n"
     ]
    },
    {
     "data": {
      "text/plain": [
       "array([[4., 4., 4., ..., 1., 1., 1.],\n",
       "       [4., 4., 4., ..., 1., 1., 1.],\n",
       "       [4., 4., 4., ..., 1., 1., 1.],\n",
       "       ...,\n",
       "       [4., 4., 4., ..., 4., 4., 4.],\n",
       "       [4., 4., 4., ..., 4., 4., 4.],\n",
       "       [4., 4., 4., ..., 4., 4., 4.]])"
      ]
     },
     "execution_count": 2,
     "metadata": {},
     "output_type": "execute_result"
    }
   ],
   "source": [
    "nw = map()\n",
    "\n",
    "nw.populate_map(n_locations=1024, name=\"terrain\",relaxed=True,k=100)\n",
    "nw.populate_map(n_locations=1024, name=\"civilisation\",relaxed=True,k=100)\n",
    "nw.populate_map(n_locations=1024, name=\"threat\",relaxed=True, k=100)\n",
    "nw.populate_map(n_locations=1024, name=\"faction\",relaxed=True, k=100)\n",
    "\n",
    "nw.attribute_view(seed_1=20,seed_2=30,map_name=\"terrain\",view_name=\"terrain\")\n",
    "nw.attribute_view(seed_1=40,seed_2=50,map_name=\"civilisation\",view_name=\"civilisation\")\n",
    "nw.attribute_view(seed_1=34,seed_2=34,map_name=\"threat\",view_name=\"threat\",double=False)\n",
    "nw.attribute_view(seed_1=67,seed_2=89,map_name=\"faction\",view_name=\"faction\",double=True)"
   ]
  },
  {
   "cell_type": "markdown",
   "metadata": {},
   "source": [
    "\n",
    "civ = nw.views[\"civilisation\"].copy()\n",
    "ter = nw.views[\"terrain\"].copy()\n",
    "thr = nw.views[\"threat\"].copy()\n",
    "fac = nw.views[\"faction\"].copy()\n",
    "\n",
    "for i in range(1024):\n",
    "    for j in range(1024):\n",
    "        civ[i,j] += 1\n",
    "        ter[i,j] += 1\n",
    "        thr[i,j] += 1\n",
    "        fac[i,j] += 1\n",
    "\n",
    "import matplotlib.pyplot as plt\n",
    "import numpy as np \n",
    "\n",
    "fig, ax = plt.subplots(1,4)\n",
    "fig.set_dpi(150)\n",
    "fig.set_size_inches(18, 6)\n",
    "\n",
    "import random\n",
    "seed=random.randint(1,100)\n",
    "res=2\n",
    "octaves = 15\n",
    "persistence = 0.60\n",
    "lacunarity = 2\n",
    "mask = toddler(size=1024, seed=seed,res=res, octaves = octaves, persistence = persistence, lacunarity = lacunarity,mask=True)\n",
    "\n",
    "ax[0].imshow(civ*(np.invert(mask)),cmap=\"Greens\")\n",
    "ax[0].set_title(\"Civilisation\")\n",
    "\n",
    "ax[1].imshow(ter*(np.invert(mask)),cmap=\"Blues\")\n",
    "ax[1].set_title(\"Terrain\")\n",
    "\n",
    "ax[2].imshow(thr*(np.invert(mask)),cmap=\"Reds\")\n",
    "ax[2].set_title(\"Threat\")\n",
    "\n",
    "ax[3].imshow(fac*(np.invert(mask)),cmap=\"Greys\")\n",
    "ax[3].set_title(\"Factions\")"
   ]
  },
  {
   "cell_type": "markdown",
   "metadata": {},
   "source": [
    "\n",
    "view_noises = {\n",
    "    \"terrain\" : { \n",
    "        \"atr\" :{\n",
    "            \"tundra\"            : [[0,0]] ,\n",
    "            \"rainforest\"        : [[2,2]] ,\n",
    "            \"desert\"            : [[0,2],[0,1]] ,\n",
    "            \"grassland\"         : [[1,1],[2,1]],\n",
    "            \"mountain\"          : [[1,0],[2,0]] ,\n",
    "            \"forest\"            : [[1,2]]\n",
    "            },\n",
    "        \"interval\" : 3,\n",
    "        \"atr_names\": [\"rain\",\"heat\"],\n",
    "        \"atr_list\" : [\"tundra\",\"rainforest\",\"desert\",\"grassland\",\"mountain\",\"forest\"]\n",
    "    },\n",
    "    \"civilisation\" : { \n",
    "        \"atr\" :{\n",
    "            \"ruins\"         : [[0,2]],   \n",
    "            \"metropol\"      : [[2,2]],       \n",
    "            \"city\"          : [[2,1],[1,2],[2,0]],       \n",
    "            \"town\"          : [[1,1]],      \n",
    "            \"wild\"          : [[0,0],[0,1],[1,0]],           \n",
    "            },\n",
    "        \"interval\" : 3,\n",
    "        \"atr_names\": [\"population\",\"history\"],\n",
    "        \"atr_list\" : [\"ruins\",\"metropol\",\"city\",\"town\",\"wild\"]\n",
    "    },\n",
    "    \"threat\" : { \n",
    "        \"atr\" :{\n",
    "            \"very_high\" : [[5,5]],   \n",
    "            \"high\"      : [[4,4]],       \n",
    "            \"medium\"    : [[3,3]],       \n",
    "            \"low\"       : [[2,2]],   \n",
    "            \"very_low\"  : [[1,1]],       \n",
    "            \"safe\"      : [[0,0]],           \n",
    "            },\n",
    "        \"interval\" : 6,\n",
    "        \"atr_names\": [\"threat\",\"threat\"],\n",
    "        \"atr_list\" : [\"very_high\",\"high\",\"medium\",\"low\",\"very_low\",\"safe\"]\n",
    "    },\n",
    "    \"faction\" : { \n",
    "        \"atr\" :{\n",
    "            \"fac1_main\"      :  [[2,0]],   \n",
    "            \"fac1_ext\"       :  [[2,1],[1,0]],       \n",
    "            \"fac2_main\"      :  [[0,2]],       \n",
    "            \"fac2_ext\"       :  [[1,2],[0,1]],\n",
    "            \"warzone\"        :  [[1,1],[2,2]],\n",
    "            \"undisputed\"     :  [[0,0]]\n",
    "            },\n",
    "        \"interval\" : 3,\n",
    "        \"atr_names\": [\"fac1\",\"fac2\"],\n",
    "        \"atr_list\" : [\"fac1_main\",\"fac1_ext\",\"fac2_main\",\"fac2_ext\",\"warzone\",\"undisputed\"]\n",
    "\n",
    "    }\n",
    "}"
   ]
  },
  {
   "cell_type": "code",
   "execution_count": 3,
   "metadata": {},
   "outputs": [],
   "source": [
    "from genetic_algorithm.wencounter import *\n",
    "\n",
    "b = w_encounter(map=nw,type=\"camel\",size=50,encounter_type=\"friendly_animals\")"
   ]
  },
  {
   "cell_type": "code",
   "execution_count": 4,
   "metadata": {},
   "outputs": [
    {
     "data": {
      "text/plain": [
       "[10, 29]"
      ]
     },
     "execution_count": 4,
     "metadata": {},
     "output_type": "execute_result"
    }
   ],
   "source": [
    "b.check_coor"
   ]
  },
  {
   "cell_type": "code",
   "execution_count": 5,
   "metadata": {},
   "outputs": [
    {
     "ename": "AttributeError",
     "evalue": "'w_encounter' object has no attribute 'fitness'",
     "output_type": "error",
     "traceback": [
      "\u001b[0;31m---------------------------------------------------------------------------\u001b[0m",
      "\u001b[0;31mAttributeError\u001b[0m                            Traceback (most recent call last)",
      "\u001b[1;32m/Users/cetiners/Desktop/Thesis/human_error/works.ipynb Cell 7'\u001b[0m in \u001b[0;36m<cell line: 1>\u001b[0;34m()\u001b[0m\n\u001b[0;32m----> <a href='vscode-notebook-cell:/Users/cetiners/Desktop/Thesis/human_error/works.ipynb#ch0000010?line=0'>1</a>\u001b[0m pack(nw,\u001b[39mtype\u001b[39;49m\u001b[39m=\u001b[39;49m\u001b[39m\"\u001b[39;49m\u001b[39mcamel\u001b[39;49m\u001b[39m\"\u001b[39;49m,size\u001b[39m=\u001b[39;49m\u001b[39m50\u001b[39;49m)\n",
      "File \u001b[0;32m~/Desktop/Thesis/human_error/genetic_algorithm/wencounter.py:37\u001b[0m, in \u001b[0;36mpack.__init__\u001b[0;34m(self, map, type, size, encounter_type)\u001b[0m\n\u001b[1;32m     34\u001b[0m     ind \u001b[39m=\u001b[39m w_encounter(\u001b[39mmap\u001b[39m\u001b[39m=\u001b[39m\u001b[39mmap\u001b[39m,\u001b[39mtype\u001b[39m\u001b[39m=\u001b[39m\u001b[39mtype\u001b[39m,encounter_type\u001b[39m=\u001b[39m\u001b[39m\"\u001b[39m\u001b[39m\"\u001b[39m)\n\u001b[1;32m     35\u001b[0m     \u001b[39mself\u001b[39m\u001b[39m.\u001b[39mpack\u001b[39m.\u001b[39mappend(ind)\n\u001b[0;32m---> 37\u001b[0m \u001b[39mself\u001b[39m\u001b[39m.\u001b[39mpack_fitness \u001b[39m=\u001b[39m [ind\u001b[39m.\u001b[39mfitness \u001b[39mfor\u001b[39;00m ind \u001b[39min\u001b[39;00m \u001b[39mself\u001b[39m\u001b[39m.\u001b[39mpack]\n",
      "File \u001b[0;32m~/Desktop/Thesis/human_error/genetic_algorithm/wencounter.py:37\u001b[0m, in \u001b[0;36m<listcomp>\u001b[0;34m(.0)\u001b[0m\n\u001b[1;32m     34\u001b[0m     ind \u001b[39m=\u001b[39m w_encounter(\u001b[39mmap\u001b[39m\u001b[39m=\u001b[39m\u001b[39mmap\u001b[39m,\u001b[39mtype\u001b[39m\u001b[39m=\u001b[39m\u001b[39mtype\u001b[39m,encounter_type\u001b[39m=\u001b[39m\u001b[39m\"\u001b[39m\u001b[39m\"\u001b[39m)\n\u001b[1;32m     35\u001b[0m     \u001b[39mself\u001b[39m\u001b[39m.\u001b[39mpack\u001b[39m.\u001b[39mappend(ind)\n\u001b[0;32m---> 37\u001b[0m \u001b[39mself\u001b[39m\u001b[39m.\u001b[39mpack_fitness \u001b[39m=\u001b[39m [ind\u001b[39m.\u001b[39;49mfitness \u001b[39mfor\u001b[39;00m ind \u001b[39min\u001b[39;00m \u001b[39mself\u001b[39m\u001b[39m.\u001b[39mpack]\n",
      "\u001b[0;31mAttributeError\u001b[0m: 'w_encounter' object has no attribute 'fitness'"
     ]
    }
   ],
   "source": [
    "pack(nw,type=\"camel\",size=50)"
   ]
  },
  {
   "cell_type": "code",
   "execution_count": null,
   "metadata": {},
   "outputs": [],
   "source": []
  }
 ],
 "metadata": {
  "interpreter": {
   "hash": "146f15e2230608c28443929e64adcd60233b3a921e350bba4bd151e87ecd2077"
  },
  "kernelspec": {
   "display_name": "Python 3.8.2 64-bit ('base': conda)",
   "name": "python3"
  },
  "language_info": {
   "codemirror_mode": {
    "name": "ipython",
    "version": 3
   },
   "file_extension": ".py",
   "mimetype": "text/x-python",
   "name": "python",
   "nbconvert_exporter": "python",
   "pygments_lexer": "ipython3",
   "version": "3.8.2"
  },
  "orig_nbformat": 4
 },
 "nbformat": 4,
 "nbformat_minor": 2
}
