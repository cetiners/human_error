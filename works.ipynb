{
 "cells": [
  {
   "cell_type": "code",
   "execution_count": null,
   "metadata": {},
   "outputs": [],
   "source": [
    "import pickle\n",
    "from matplotlib import colors\n",
    "import matplotlib.pyplot as plt\n",
    "from map_engine.map_generator import map\n",
    "from quest_engine.quest_generator import *\n",
    "from encounter_engine.world_encounters import *\n",
    "from quest_engine.freytags_fitness import freytags\n",
    "from character_engine.character import *"
   ]
  },
  {
   "cell_type": "code",
   "execution_count": null,
   "metadata": {},
   "outputs": [],
   "source": [
    "nw = map()\n",
    "nw.populate_map(n_locations=1024, name=\"terrain\", relaxed=True, k=100)\n",
    "nw.populate_map(n_locations=4096, name=\"civilisation\", relaxed=True, k=250)\n",
    "nw.populate_map(n_locations=36, name=\"story_act\", relaxed=True, k=250)\n",
    "nw.populate_map(n_locations=1024, name=\"threat\", relaxed=True, k=100)\n",
    "\n",
    "nw.attribute_view(seed_1=24, seed_2=34,\n",
    "                  map_name=\"terrain\", view_name=\"terrain\")\n",
    "nw.attribute_view(seed_1=98, seed_2=50, map_name=\"civilisation\",\n",
    "                  view_name=\"civilisation\", double=False)\n",
    "nw.attribute_view(seed_1=34, seed_2=34, map_name=\"threat\",\n",
    "                  view_name=\"threat\", double=False)\n",
    "nw.attribute_view(seed_1=16, seed_2=16, map_name=\"story_act\",\n",
    "                  view_name=\"story_act\", double=False)\n",
    "\n",
    "nw.attribute_centroids(\"civilisation\")\n",
    "nw.attribute_centroids(\"terrain\")\n",
    "nw.land_mask()\n",
    "\n",
    "with open('logs/map_nw', 'wb') as f:\n",
    "    pickle.dump(nw, f)\n",
    "\n",
    "#with open(\"map_nw\", \"rb\") as f:\n",
    "#    nw = pickle.load(f)"
   ]
  },
  {
   "cell_type": "code",
   "execution_count": null,
   "metadata": {},
   "outputs": [],
   "source": [
    "for mutation in [\"pmx\",\"single_point\",\"ar\"]:\n",
    "    for crossover in [\"single_point\",\"complete\",\"random_point\"]:\n",
    "        for mu_p in [.2,.4,.6,.8]:\n",
    "\n",
    "\n",
    "            params = {\n",
    "                \"map\"           :   nw,\n",
    "                \"mutation\"      :   mutation,\n",
    "                \"xo\"            :   crossover,\n",
    "                \"shelf_size\"    :   100,\n",
    "                \"pop_size\"      :   100,\n",
    "                \"gens\"          :   1,\n",
    "                \"mu_p\"          :   mu_p,\n",
    "                \"print_it\"      :   False,\n",
    "                \"log\"           :   True,\n",
    "                \"brute_force\"   :   False,\n",
    "            }\n",
    "\n",
    "            ql = quest_library(params=params)\n",
    "            with open (f\"logs/ql_{mutation}_{crossover}_{mu_p}\", \"wb\") as f:\n",
    "                pickle.dump(ql, f)"
   ]
  },
  {
   "cell_type": "code",
   "execution_count": null,
   "metadata": {},
   "outputs": [],
   "source": [
    "with open(\"quest_library\", \"wb\") as f:\n",
    "    ql = pickle.dump(ql,f)\n",
    "\n",
    "\n",
    "with open(\"quest_library\", \"rb\") as f:\n",
    "    ql = pickle.load(f)"
   ]
  },
  {
   "cell_type": "code",
   "execution_count": null,
   "metadata": {},
   "outputs": [],
   "source": [
    "quest_line = ql.curate(4,max_act=2)"
   ]
  },
  {
   "cell_type": "code",
   "execution_count": null,
   "metadata": {},
   "outputs": [],
   "source": [
    "cmap = colors.ListedColormap(\n",
    "    [\"blue\", \"white\", \"yellowgreen\", \"khaki\", \"lawngreen\", \"slategrey\", \"darkgreen\"])\n",
    "cmap_arcs = colors.ListedColormap(\n",
    "    [\"blue\", \"khaki\", \"khaki\", \"khaki\", \"khaki\", \"khaki\", \"khaki\", \"brown\", \"brown\", \"brown\", \"black\", ])\n",
    "\n",
    "q_colors = [\"red\",\"goldenrod\",\"purple\",\"darkgreen\",\"black\"]\n",
    "\n",
    "ter = nw.views[\"terrain\"].copy()\n",
    "civ = nw.views[\"civilisation\"].copy()\n",
    "thr = nw.views[\"threat\"].copy()\n",
    "arc = nw.views[\"story_act\"].copy()\n",
    "\n",
    "fig, ax = plt.subplots(2, 2)\n",
    "fig.set_dpi(150)\n",
    "fig.set_size_inches(15, 15)\n",
    "\n",
    "ax[0, 1].imshow(ter.T, cmap=cmap, alpha=.66)\n",
    "ax[0, 1].set_title(\"Terrain\")\n",
    "\n",
    "j = 0\n",
    "for q in quest_line[0]:\n",
    "    \n",
    "    ax[0, 1].scatter([i[0] for i in q.path], [i[1] for i in q.path], color=q_colors[j], s=15)\n",
    "    ax[0, 1].plot([i[0] for i in q.path], [i[1] for i in q.path], color=q_colors[j],linestyle=\"dotted\",linewidth=1)\n",
    "    j += 1\n",
    "\n",
    "    for i in range(len(q.path)):\n",
    "        ax[0, 1].annotate(i+1,(q.path[i][0], q.path[i][1]),fontsize=12,fontweight=\"bold\")\n",
    "  \n",
    "\n",
    "ax[1, 1].imshow(civ.T, cmap=cmap_arcs, alpha=0.66)\n",
    "ax[1, 1].set_title(\"Civilisation\")\n",
    "\n",
    "j = 0\n",
    "for q in quest_line[0]:\n",
    "\n",
    "    ax[1, 1].scatter([i[0] for i in q.path], [i[1] for i in q.path], color=q_colors[j], s=15)\n",
    "    ax[1, 1].plot([i[0] for i in q.path], [i[1] for i in q.path],color=q_colors[j],linestyle=\"dotted\",linewidth=1)\n",
    "    j += 1\n",
    "\n",
    "    for i in range(len(q.path)):\n",
    "        ax[1, 1].annotate(i+1,(q.path[i][0], q.path[i][1]),fontsize=12,fontweight=\"bold\")\n",
    "\n",
    "ax[1, 0].imshow(thr.T, cmap=\"Reds\", alpha=0.66)\n",
    "ax[1, 0].set_title(\"Threat\")\n",
    "\n",
    "j=0\n",
    "for q in quest_line[0]:\n",
    "    ax[1, 0].scatter([i[0] for i in q.path], [i[1] for i in q.path], color=q_colors[j], s=15)\n",
    "    ax[1, 0].plot([i[0] for i in q.path], [i[1] for i in q.path],color=q_colors[j],linestyle=\"dotted\",linewidth=1)\n",
    "    j += 1\n",
    "\n",
    "    for i in range(len(q.path)):\n",
    "        ax[1, 0].annotate(i+1,(q.path[i][0], q.path[i][1]),fontsize=12,fontweight=\"bold\")\n",
    "\n",
    "ax[0, 0].imshow(arc.T, cmap=\"Blues\", alpha=0.66)\n",
    "ax[0, 0].set_title(\"Story Act\")\n",
    "\n",
    "j=0\n",
    "for q in quest_line[0]:\n",
    "    ax[0, 0].scatter([i[0] for i in q.path], [i[1] for i in q.path], color=q_colors[j], s=15)\n",
    "    ax[0, 0].plot([i[0] for i in q.path], [i[1] for i in q.path], color=q_colors[j],linestyle=\"dotted\",linewidth=1)\n",
    "\n",
    "    j += 1\n",
    "\n",
    "    for i in range(len(q.path)):\n",
    "        ax[0, 0].annotate(i+1,(q.path[i][0], q.path[i][1]),fontsize=12,fontweight=\"bold\")\n",
    "\n",
    "\n",
    "fig.show()\n"
   ]
  },
  {
   "cell_type": "code",
   "execution_count": null,
   "metadata": {},
   "outputs": [],
   "source": [
    "müjgan = npc()\n",
    "müjgan.name = \"Mecnun\"\n",
    "müjgan.level_up(19)\n",
    "müjgan.character_sheet()"
   ]
  },
  {
   "cell_type": "code",
   "execution_count": null,
   "metadata": {},
   "outputs": [],
   "source": []
  }
 ],
 "metadata": {
  "interpreter": {
   "hash": "146f15e2230608c28443929e64adcd60233b3a921e350bba4bd151e87ecd2077"
  },
  "kernelspec": {
   "display_name": "Python 3.8.2 64-bit ('base': conda)",
   "name": "python3"
  },
  "language_info": {
   "codemirror_mode": {
    "name": "ipython",
    "version": 3
   },
   "file_extension": ".py",
   "mimetype": "text/x-python",
   "name": "python",
   "nbconvert_exporter": "python",
   "pygments_lexer": "ipython3",
   "version": "3.8.2"
  },
  "orig_nbformat": 4
 },
 "nbformat": 4,
 "nbformat_minor": 2
}
