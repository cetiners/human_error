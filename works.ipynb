{
 "cells": [
  {
   "cell_type": "code",
   "execution_count": 1,
   "metadata": {},
   "outputs": [
    {
     "name": "stderr",
     "output_type": "stream",
     "text": [
      "<frozen importlib._bootstrap>:219: RuntimeWarning: numpy.ufunc size changed, may indicate binary incompatibility. Expected 216 from C header, got 232 from PyObject\n",
      "<frozen importlib._bootstrap>:219: RuntimeWarning: numpy.ufunc size changed, may indicate binary incompatibility. Expected 216 from C header, got 232 from PyObject\n",
      "<frozen importlib._bootstrap>:219: RuntimeWarning: numpy.ufunc size changed, may indicate binary incompatibility. Expected 216 from C header, got 232 from PyObject\n",
      "<frozen importlib._bootstrap>:219: RuntimeWarning: numpy.ufunc size changed, may indicate binary incompatibility. Expected 216 from C header, got 232 from PyObject\n"
     ]
    },
    {
     "name": "stdout",
     "output_type": "stream",
     "text": [
      "\u001b[H\u001b[2J"
     ]
    }
   ],
   "source": [
    "from map_manager.map_generator import map\n",
    "from map_manager.world_encounters import *\n",
    "import pickle\n",
    "from matplotlib import colors\n",
    "from tools.utils import required_n_enc\n",
    "from quest_engine.quest_generator import *\n",
    "from map_manager.noise import toddler\n",
    "import matplotlib.pyplot as plt\n",
    "from tools.utils import basic_distance"
   ]
  },
  {
   "cell_type": "code",
   "execution_count": 3,
   "metadata": {},
   "outputs": [],
   "source": [
    "#nw = map()\n",
    "\n",
    "#nw.populate_map(n_locations=1024, name=\"terrain\",relaxed=True,k=100)\n",
    "#nw.populate_map(n_locations=2048, name=\"civilisation\",relaxed=True,k=250)\n",
    "#nw.populate_map(n_locations=1024, name=\"threat\",relaxed=True, k=100)\n",
    "#nw.populate_map(n_locations=64, name=\"story_arc\",relaxed=True, k=100)\n",
    "#\n",
    "#\n",
    "#nw.attribute_view(seed_1=24,seed_2=34,map_name=\"terrain\",view_name=\"terrain\")\n",
    "#nw.attribute_view(seed_1=98,seed_2=50,map_name=\"civilisation\",view_name=\"civilisation\")\n",
    "#nw.attribute_view(seed_1=34,seed_2=34,map_name=\"threat\",view_name=\"threat\",double=False)\n",
    "#nw.attribute_view(seed_1=74,seed_2=74,map_name=\"story_arc\",view_name=\"story_arc\",double=True)\n",
    "#\n",
    "#\n",
    "#nw.attribute_centroids(\"civilisation\")\n",
    "#nw.attribute_centroids(\"terrain\")\n",
    "#nw.land_mask()\n",
    "#\n",
    "#\n",
    "#with open('map_nw', 'wb') as f:\n",
    "#    # Pickle the 'data' dictionary using the highest protocol available.\n",
    "#    pickle.dump(nw, f)\n",
    "\n",
    "\n",
    "with open(\"map_nw\", \"rb\") as f:\n",
    "    nw = pickle.load(f)\n",
    "\n"
   ]
  },
  {
   "cell_type": "markdown",
   "metadata": {},
   "source": [
    "#### - Questin ilk ve son adımının birden fazla keyi olabilir.(Init)\n",
    "#### - Arc arttıkça, questin o arc bölgesinde bitmesi şart. (Fitness func)"
   ]
  },
  {
   "cell_type": "code",
   "execution_count": 4,
   "metadata": {},
   "outputs": [],
   "source": [
    "q = quest(nw)"
   ]
  },
  {
   "cell_type": "code",
   "execution_count": 5,
   "metadata": {},
   "outputs": [
    {
     "data": {
      "text/plain": [
       "[[[455.3, 501.8], [94.1, 146.1], [706.8, 828.6]],\n",
       " [[609.0, 380.3]],\n",
       " [[445.0, 193.2]],\n",
       " [[32.7, 330.4]]]"
      ]
     },
     "execution_count": 5,
     "metadata": {},
     "output_type": "execute_result"
    }
   ],
   "source": [
    "q.key_coords"
   ]
  },
  {
   "cell_type": "code",
   "execution_count": 6,
   "metadata": {},
   "outputs": [
    {
     "data": {
      "text/plain": [
       "[[],\n",
       " [[328.1, 273.7]],\n",
       " [[1000.1, 254.6]],\n",
       " [[51.2, 60.0], [137.0, 1006.0], [932.9, 289.3]]]"
      ]
     },
     "execution_count": 6,
     "metadata": {},
     "output_type": "execute_result"
    }
   ],
   "source": [
    "q.lock_coords"
   ]
  },
  {
   "cell_type": "code",
   "execution_count": 21,
   "metadata": {},
   "outputs": [
    {
     "name": "stdout",
     "output_type": "stream",
     "text": [
      "[[195.92330131967458, 565.6603662976574, 458.8439059200852], [248.8019493492766], [434.52862966667686]]\n"
     ]
    }
   ],
   "source": [
    "from turtle import distance\n",
    "\n",
    "\n",
    "distances = []\n",
    "\n",
    "for i in range(q.steps-1):\n",
    "    dists = [(basic_distance(coord,q.key_coords[i+1][0])) for coord in q.key_coords[i]]\n",
    "    distances.append(dists)\n",
    "print(distances)\n",
    "    \n",
    "    \n",
    "                "
   ]
  },
  {
   "cell_type": "code",
   "execution_count": 22,
   "metadata": {},
   "outputs": [
    {
     "data": {
      "text/plain": [
       "[[[455.3, 501.8], [94.1, 146.1], [706.8, 828.6]],\n",
       " [[609.0, 380.3]],\n",
       " [[445.0, 193.2]],\n",
       " [[32.7, 330.4]]]"
      ]
     },
     "execution_count": 22,
     "metadata": {},
     "output_type": "execute_result"
    }
   ],
   "source": [
    "q.key_coords"
   ]
  },
  {
   "cell_type": "code",
   "execution_count": null,
   "metadata": {},
   "outputs": [],
   "source": [
    "cmap = colors.ListedColormap([ \"blue\",\"white\",\"yellowgreen\",\"khaki\",\"lawngreen\",\"slategrey\",\"darkgreen\"])\n",
    "cmap_arcs = colors.ListedColormap([\"blue\",\"khaki\",\"khaki\",\"black\",])\n",
    "\n",
    "ter = nw.views[\"terrain\"].copy()\n",
    "civ = nw.views[\"civilisation\"].copy()\n",
    "thr = nw.views[\"threat\"].copy()\n",
    "arc = nw.views[\"story_arc\"].copy()\n",
    "\n",
    "\n",
    "fig, ax = plt.subplots(1,4)\n",
    "fig.set_dpi(150)\n",
    "fig.set_size_inches(12, 8)\n",
    "\n",
    "ax[0].imshow(ter.T,cmap=cmap,alpha=.66)\n",
    "ax[0].set_title(\"Terrain\")\n",
    "\n",
    "ax[1].imshow(civ.T,cmap=cmap_arcs,alpha=0.66)\n",
    "ax[1].set_title(\"Civilisation\")\n",
    "\n",
    "ax[2].imshow(thr.T,cmap=\"Reds\",alpha=0.66)\n",
    "ax[2].set_title(\"Threat\")\n",
    "\n",
    "ax[3].imshow(arc.T,cmap=\"Greens\",alpha=0.66)\n",
    "ax[3].set_title(\"Story Arc\")\n"
   ]
  },
  {
   "cell_type": "code",
   "execution_count": null,
   "metadata": {},
   "outputs": [],
   "source": [
    "nw.views[\"civilisation\"]"
   ]
  },
  {
   "cell_type": "code",
   "execution_count": null,
   "metadata": {},
   "outputs": [],
   "source": []
  }
 ],
 "metadata": {
  "interpreter": {
   "hash": "146f15e2230608c28443929e64adcd60233b3a921e350bba4bd151e87ecd2077"
  },
  "kernelspec": {
   "display_name": "Python 3.8.2 64-bit ('base': conda)",
   "name": "python3"
  },
  "language_info": {
   "codemirror_mode": {
    "name": "ipython",
    "version": 3
   },
   "file_extension": ".py",
   "mimetype": "text/x-python",
   "name": "python",
   "nbconvert_exporter": "python",
   "pygments_lexer": "ipython3",
   "version": "3.8.2"
  },
  "orig_nbformat": 4
 },
 "nbformat": 4,
 "nbformat_minor": 2
}
