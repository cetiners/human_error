{
 "cells": [
  {
   "cell_type": "code",
   "execution_count": 1,
   "metadata": {},
   "outputs": [
    {
     "name": "stderr",
     "output_type": "stream",
     "text": [
      "/Users/cetiners/opt/anaconda3/lib/python3.8/site-packages/statsmodels/compat/pandas.py:61: FutureWarning: pandas.Int64Index is deprecated and will be removed from pandas in a future version. Use pandas.Index with the appropriate dtype instead.\n",
      "  from pandas import Int64Index as NumericIndex\n"
     ]
    },
    {
     "name": "stdout",
     "output_type": "stream",
     "text": [
      "\u001b[H\u001b[2J"
     ]
    }
   ],
   "source": [
    "from map_manager.map_generator import map\n",
    "from map_manager.noise import toddler\n",
    "from map_manager.world_encounters import *"
   ]
  },
  {
   "cell_type": "code",
   "execution_count": 2,
   "metadata": {},
   "outputs": [
    {
     "name": "stderr",
     "output_type": "stream",
     "text": [
      "/Users/cetiners/Desktop/Thesis/human_error/map_manager/map_attributer.py:84: RuntimeWarning: invalid value encountered in true_divide\n",
      "  average = sum_/count\n"
     ]
    },
    {
     "data": {
      "text/plain": [
       "array([[4., 4., 4., ..., 1., 1., 1.],\n",
       "       [4., 4., 4., ..., 1., 1., 1.],\n",
       "       [4., 4., 4., ..., 1., 1., 1.],\n",
       "       ...,\n",
       "       [4., 4., 4., ..., 4., 4., 4.],\n",
       "       [4., 4., 4., ..., 4., 4., 4.],\n",
       "       [4., 4., 4., ..., 4., 4., 4.]])"
      ]
     },
     "execution_count": 2,
     "metadata": {},
     "output_type": "execute_result"
    }
   ],
   "source": [
    "nw = map()\n",
    "\n",
    "nw.populate_map(n_locations=1024, name=\"terrain\",relaxed=True,k=100)\n",
    "nw.populate_map(n_locations=1024, name=\"civilisation\",relaxed=True,k=100)\n",
    "nw.populate_map(n_locations=1024, name=\"threat\",relaxed=True, k=100)\n",
    "nw.populate_map(n_locations=1024, name=\"faction\",relaxed=True, k=100)\n",
    "\n",
    "\n",
    "nw.attribute_view(seed_1=20,seed_2=30,map_name=\"terrain\",view_name=\"terrain\")\n",
    "nw.attribute_view(seed_1=40,seed_2=50,map_name=\"civilisation\",view_name=\"civilisation\")\n",
    "nw.attribute_view(seed_1=34,seed_2=34,map_name=\"threat\",view_name=\"threat\",double=False)\n",
    "nw.attribute_view(seed_1=67,seed_2=89,map_name=\"faction\",view_name=\"faction\",double=True)"
   ]
  },
  {
   "cell_type": "markdown",
   "metadata": {},
   "source": [
    "\n",
    "civ = nw.views[\"civilisation\"].copy()\n",
    "ter = nw.views[\"terrain\"].copy()\n",
    "thr = nw.views[\"threat\"].copy()\n",
    "fac = nw.views[\"faction\"].copy()\n",
    "\n",
    "for i in range(1024):\n",
    "    for j in range(1024):\n",
    "        civ[i,j] += 1\n",
    "        ter[i,j] += 1\n",
    "        thr[i,j] += 1\n",
    "        fac[i,j] += 1\n",
    "\n",
    "import matplotlib.pyplot as plt\n",
    "import numpy as np \n",
    "\n",
    "fig, ax = plt.subplots(1,4)\n",
    "fig.set_dpi(150)\n",
    "fig.set_size_inches(18, 6)\n",
    "\n",
    "import random\n",
    "seed=random.randint(1,100)\n",
    "res=2\n",
    "octaves = 15\n",
    "persistence = 0.60\n",
    "lacunarity = 2\n",
    "mask = toddler(size=1024, seed=seed,res=res, octaves = octaves, persistence = persistence, lacunarity = lacunarity,mask=True)\n",
    "\n",
    "ax[0].imshow(civ*(np.invert(mask)),cmap=\"Greens\")\n",
    "ax[0].set_title(\"Civilisation\")\n",
    "\n",
    "ax[1].imshow(ter*(np.invert(mask)),cmap=\"Blues\")\n",
    "ax[1].set_title(\"Terrain\")\n",
    "\n",
    "ax[2].imshow(thr*(np.invert(mask)),cmap=\"Reds\")\n",
    "ax[2].set_title(\"Threat\")\n",
    "\n",
    "ax[3].imshow(fac*(np.invert(mask)),cmap=\"Greys\")\n",
    "ax[3].set_title(\"Factions\")"
   ]
  },
  {
   "cell_type": "markdown",
   "metadata": {},
   "source": [
    "\n",
    "view_noises = {\n",
    "    \"terrain\" : { \n",
    "        \"atr\" :{\n",
    "            \"tundra\"            : [[0,0]] ,\n",
    "            \"rainforest\"        : [[2,2]] ,\n",
    "            \"desert\"            : [[0,2],[0,1]] ,\n",
    "            \"grassland\"         : [[1,1],[2,1]],\n",
    "            \"mountain\"          : [[1,0],[2,0]] ,\n",
    "            \"forest\"            : [[1,2]]\n",
    "            },\n",
    "        \"interval\" : 3,\n",
    "        \"atr_names\": [\"rain\",\"heat\"],\n",
    "        \"atr_list\" : [\"tundra\",\"rainforest\",\"desert\",\"grassland\",\"mountain\",\"forest\"]\n",
    "    },\n",
    "    \"civilisation\" : { \n",
    "        \"atr\" :{\n",
    "            \"ruins\"         : [[0,2]],   \n",
    "            \"metropol\"      : [[2,2]],       \n",
    "            \"city\"          : [[2,1],[1,2],[2,0]],       \n",
    "            \"town\"          : [[1,1]],      \n",
    "            \"wild\"          : [[0,0],[0,1],[1,0]],           \n",
    "            },\n",
    "        \"interval\" : 3,\n",
    "        \"atr_names\": [\"population\",\"history\"],\n",
    "        \"atr_list\" : [\"ruins\",\"metropol\",\"city\",\"town\",\"wild\"]\n",
    "    },\n",
    "    \"threat\" : { \n",
    "        \"atr\" :{\n",
    "            \"very_high\" : [[5,5]],   \n",
    "            \"high\"      : [[4,4]],       \n",
    "            \"medium\"    : [[3,3]],       \n",
    "            \"low\"       : [[2,2]],   \n",
    "            \"very_low\"  : [[1,1]],       \n",
    "            \"safe\"      : [[0,0]],           \n",
    "            },\n",
    "        \"interval\" : 6,\n",
    "        \"atr_names\": [\"threat\",\"threat\"],\n",
    "        \"atr_list\" : [\"very_high\",\"high\",\"medium\",\"low\",\"very_low\",\"safe\"]\n",
    "    },\n",
    "    \"faction\" : { \n",
    "        \"atr\" :{\n",
    "            \"fac1_main\"      :  [[2,0]],   \n",
    "            \"fac1_ext\"       :  [[2,1],[1,0]],       \n",
    "            \"fac2_main\"      :  [[0,2]],       \n",
    "            \"fac2_ext\"       :  [[1,2],[0,1]],\n",
    "            \"warzone\"        :  [[1,1],[2,2]],\n",
    "            \"undisputed\"     :  [[0,0]]\n",
    "            },\n",
    "        \"interval\" : 3,\n",
    "        \"atr_names\": [\"fac1\",\"fac2\"],\n",
    "        \"atr_list\" : [\"fac1_main\",\"fac1_ext\",\"fac2_main\",\"fac2_ext\",\"warzone\",\"undisputed\"]\n",
    "\n",
    "    }\n",
    "}"
   ]
  },
  {
   "cell_type": "code",
   "execution_count": 7,
   "metadata": {},
   "outputs": [
    {
     "name": "stdout",
     "output_type": "stream",
     "text": [
      "[-1000, -2000, -2000, -2000, -1000, -1000, -2000, -2000, -2000, -2000] [-2000, -2000, -1000, -1000, -2000, -2000, -2000, -2000, -2000, -2000]\n"
     ]
    }
   ],
   "source": [
    "from map_manager.world_encounters import *\n",
    "from genetic_algorithm.crossover import * \n",
    "\n",
    "p1 = pack(nw,type=\"camel\",size=5,encounter_type=\"friendly_animals\")\n",
    "p2 =  pack(nw,type=\"camel\",size=5,encounter_type=\"friendly_animals\")\n",
    "\n",
    "print (p1.pack_fitness, p2.pack_fitness)\n",
    "o1,o2 = partially_mapped_xo(p1,p2)"
   ]
  },
  {
   "cell_type": "code",
   "execution_count": 8,
   "metadata": {},
   "outputs": [
    {
     "data": {
      "text/plain": [
       "-1000"
      ]
     },
     "execution_count": 8,
     "metadata": {},
     "output_type": "execute_result"
    }
   ],
   "source": [
    "p1.pack[0].check_fitness()"
   ]
  },
  {
   "cell_type": "code",
   "execution_count": 9,
   "metadata": {},
   "outputs": [
    {
     "name": "stdout",
     "output_type": "stream",
     "text": [
      "[[471.0, 165.0], [81.8, 944.8], [39.2, 210.2], [364.9, 567.5], [667.7, 952.0], [158.7, 761.8], [577.7, 563.3], [312.9, 591.1], [440.7, 615.7], [772.6, 96.2]]\n"
     ]
    }
   ],
   "source": [
    "print([i.coord for i in p1.pack])"
   ]
  },
  {
   "cell_type": "code",
   "execution_count": 10,
   "metadata": {},
   "outputs": [
    {
     "name": "stdout",
     "output_type": "stream",
     "text": [
      "[[471.0, 165.0], [81.8, 944.8], [39.2, 210.2], [981.3, 888.6], [538.3, 922.4], [634.9, 1003.7], [943.6, 525.5], [717.6, 51.5], [440.7, 615.7], [772.6, 96.2]]\n"
     ]
    }
   ],
   "source": [
    "print([i.coord for i in o1.pack])"
   ]
  },
  {
   "cell_type": "code",
   "execution_count": null,
   "metadata": {},
   "outputs": [],
   "source": []
  }
 ],
 "metadata": {
  "interpreter": {
   "hash": "146f15e2230608c28443929e64adcd60233b3a921e350bba4bd151e87ecd2077"
  },
  "kernelspec": {
   "display_name": "Python 3.8.2 64-bit ('base': conda)",
   "name": "python3"
  },
  "language_info": {
   "codemirror_mode": {
    "name": "ipython",
    "version": 3
   },
   "file_extension": ".py",
   "mimetype": "text/x-python",
   "name": "python",
   "nbconvert_exporter": "python",
   "pygments_lexer": "ipython3",
   "version": "3.8.2"
  },
  "orig_nbformat": 4
 },
 "nbformat": 4,
 "nbformat_minor": 2
}
