{
 "cells": [
  {
   "cell_type": "markdown",
   "metadata": {},
   "source": [
    "### Aşamalara chart print fonksiyonu koymaca."
   ]
  },
  {
   "cell_type": "code",
   "execution_count": 1,
   "metadata": {},
   "outputs": [
    {
     "name": "stdout",
     "output_type": "stream",
     "text": [
      "\u001b[H\u001b[2J"
     ]
    }
   ],
   "source": [
    "import os\n",
    "import pickle\n",
    "import itertools\n",
    "import pandas as pd\n",
    "\n",
    "from matplotlib import colors\n",
    "import matplotlib.pyplot as plt\n",
    "\n",
    "from map_engine.map_generator import map\n",
    "\n",
    "from quest_engine.quest_generator import *\n",
    "from quest_engine.freytags_fitness import freytags\n",
    "\n",
    "from encounter_engine.world_encounters import *\n",
    "\n",
    "from character_engine.character import *"
   ]
  },
  {
   "cell_type": "code",
   "execution_count": 2,
   "metadata": {},
   "outputs": [],
   "source": [
    "#nw = map()\n",
    "#\n",
    "#nw.populate_map(n_locations=1024, name=\"terrain\", relaxed=True, k=100)\n",
    "#nw.populate_map(n_locations=4096, name=\"civilisation\", relaxed=True, k=250)\n",
    "#nw.populate_map(n_locations=36, name=\"story_act\", relaxed=True, k=250)\n",
    "#nw.populate_map(n_locations=1024, name=\"threat\", relaxed=True, k=100)\n",
    "#\n",
    "#nw.attribute_view(seed_1=24, seed_2=34,\n",
    "#                  map_name=\"terrain\", view_name=\"terrain\")\n",
    "#nw.attribute_view(seed_1=98, seed_2=50, map_name=\"civilisation\",\n",
    "#                  view_name=\"civilisation\", double=False)\n",
    "#nw.attribute_view(seed_1=34, seed_2=34, map_name=\"threat\",\n",
    "#                  view_name=\"threat\", double=False)\n",
    "#nw.attribute_view(seed_1=16, seed_2=16, map_name=\"story_act\",\n",
    "#                  view_name=\"story_act\", double=False)\n",
    "#\n",
    "#nw.attribute_centroids(\"civilisation\")\n",
    "#nw.attribute_centroids(\"terrain\")\n",
    "##nw.land_mask()\n",
    "#\n",
    "#with open('logs/map_nw', 'wb') as f:\n",
    "#    pickle.dump(nw, f)\n",
    "\n",
    "with open(\"logs/map_nw\", \"rb\") as f:\n",
    "    nw = pickle.load(f)\n",
    "\n",
    "nw.land_mask()"
   ]
  },
  {
   "cell_type": "code",
   "execution_count": 3,
   "metadata": {},
   "outputs": [
    {
     "name": "stdout",
     "output_type": "stream",
     "text": [
      "Found the required individual on gen 574\n"
     ]
    },
    {
     "name": "stderr",
     "output_type": "stream",
     "text": [
      "/var/folders/b0/myrlwrn92tx10wp6gb5y7c540000gn/T/ipykernel_10916/957345698.py:9: RuntimeWarning: More than 20 figures have been opened. Figures created through the pyplot interface (`matplotlib.pyplot.figure`) are retained until explicitly closed and may consume too much memory. (To control this warning, see the rcParam `figure.max_open_warning`).\n",
      "  fig, ax = plt.subplots()\n"
     ]
    }
   ],
   "source": [
    "pop = quest_pop(nw,act=2, pop_size=20, steps=5)\n",
    "ind = pop.evolve(gens=1,early_stop=False, mu_p=.4, xo=\"pmx\", mutation=\"random_point\", fancy_save=True)\n",
    "\n",
    "cmap = colors.ListedColormap(\n",
    "    [\"blue\", \"white\", \"yellowgreen\", \"khaki\", \"lawngreen\", \"slategrey\", \"darkgreen\"])\n",
    "\n",
    "i = 1\n",
    "for gen in pop.fancy:\n",
    "    fig, ax = plt.subplots()\n",
    "    fig.set_dpi(150)\n",
    "    fig.set_size_inches(15, 15)\n",
    "    ax.imshow(nw.views[\"terrain\"].T, cmap=cmap, alpha=.50)\n",
    "    for q in gen:\n",
    "        ax.scatter([i[0] for i in q], [i[1] for i in q], color=\"black\",marker=\"*\", s=15)\n",
    "        ax.plot([i[0] for i in q], [i[1] for i in q], color=\"red\",linestyle=\"dotted\",linewidth=1)\n",
    "        ax.set_title(\"Generation: {}\".format(i))\n",
    "        fig.savefig(f\"fancy/{i}.png\")\n",
    "        i += 1\n",
    "\n",
    "\n"
   ]
  },
  {
   "cell_type": "code",
   "execution_count": null,
   "metadata": {},
   "outputs": [],
   "source": [
    "fig, ax = plt.subplots()\n",
    "fig.set_dpi(150)\n",
    "fig.set_size_inches(15, 15)\n",
    "ax.imshow(nw.views[\"terrain\"].T, cmap=cmap, alpha=.50)\n",
    "\n",
    "q = ind.path\n",
    " \n",
    "ax.scatter([i[0] for i in q], [i[1] for i in q], color=\"black\",marker=\"*\", s=15)\n",
    "ax.plot([i[0] for i in q], [i[1] for i in q], color=\"red\",linestyle=\"dotted\",linewidth=1)\n",
    "ax.set_title(\"Generation: {}\".format(i))\n",
    "fig.savefig(f\"fancy/{i}.png\")"
   ]
  },
  {
   "cell_type": "code",
   "execution_count": null,
   "metadata": {},
   "outputs": [],
   "source": [
    "print(ind.path_threat)\n",
    "\n",
    "ind.check_threat()"
   ]
  },
  {
   "cell_type": "code",
   "execution_count": null,
   "metadata": {},
   "outputs": [],
   "source": [
    "\n",
    "muts = [\"complete\",\"single_point\",\"random_point\"]\n",
    "xos = [\"pmx\",\"single_point\",\"ar\"]\n",
    "mups =  [.5]\n",
    "\n",
    "for param in [p for p in itertools.product(*[muts,xos,mups])]:\n",
    "\n",
    "            params = {\n",
    "                \"map\"           :   nw,\n",
    "                \"mutation\"      :   param[0],\n",
    "                \"xo\"            :   param[1],\n",
    "                \"mu_p\"          :   param[2],\n",
    "                \"gens\"          :   500,\n",
    "                \"shelf_size\"    :   50,\n",
    "                \"pop_size\"      :   100,\n",
    "                \"print_it\"      :   False,\n",
    "                \"brute_force\"   :   False,\n",
    "                \"log\"           :   True,\n",
    "                \"early_stop\"    :   True,\n",
    "            }\n",
    "\n",
    "            ql = quest_library(params)"
   ]
  },
  {
   "cell_type": "code",
   "execution_count": null,
   "metadata": {},
   "outputs": [],
   "source": [
    "params = {\n",
    "                \"map\"           :   nw,\n",
    "                \"mutation\"      :   \"random_point\",\n",
    "                \"xo\"            :   \"pmx\",\n",
    "                \"mu_p\"          :   .5,\n",
    "                \"gens\"          :   500,\n",
    "                \"shelf_size\"    :   1,\n",
    "                \"pop_size\"      :   100,\n",
    "                \"print_it\"      :   True,\n",
    "                \"brute_force\"   :   False,\n",
    "                \"log\"           :   False,\n",
    "                \"early_stop\"    :   False,\n",
    "            }\n",
    "\n",
    "a = quest_library(params)"
   ]
  },
  {
   "cell_type": "code",
   "execution_count": null,
   "metadata": {},
   "outputs": [],
   "source": [
    "ql_1 = a.curate(quest_line_length=3, max_act=2, min_act=2)"
   ]
  },
  {
   "cell_type": "code",
   "execution_count": null,
   "metadata": {},
   "outputs": [],
   "source": [
    "nw.printer(quest_line = ql_1)"
   ]
  },
  {
   "cell_type": "code",
   "execution_count": null,
   "metadata": {},
   "outputs": [],
   "source": [
    "\n",
    "path = \"logs/\"\n",
    "files = os.listdir(path)\n",
    "files = [f for f in files if f.endswith(\".csv\")]\n",
    "\n",
    "df = pd.concat([pd.read_csv(path+f) for f in files])\n",
    "\n",
    "\n",
    "for f in files:\n",
    "    os.remove(path+f)\n",
    "    \n",
    "df.to_csv(\"logs/merged.csv\", index=False)\n",
    "\n",
    "\n"
   ]
  },
  {
   "cell_type": "code",
   "execution_count": null,
   "metadata": {},
   "outputs": [],
   "source": [
    "i = 1\n",
    "fig, ax = plt.subplots()\n",
    "fig.set_dpi(150)\n",
    "fig.set_size_inches(15, 15)\n",
    "\n",
    "cmap = colors.ListedColormap(\n",
    "    [\"blue\", \"white\", \"yellowgreen\", \"khaki\", \"lawngreen\", \"slategrey\", \"darkgreen\"])\n",
    "\n",
    "ax.imshow(nw.views[\"terrain\"].T, cmap=cmap, alpha=.50)\n",
    "\n",
    "\n",
    "\n",
    "for gen in pop.fancy:\n",
    "    for q in gen:\n",
    "        ax.scatter([i[0] for i in q], [i[1] for i in q], color=\"black\",marker=\"*\", s=15)\n",
    "        ax.plot([i[0] for i in q], [i[1] for i in q], color=\"red\",linestyle=\"dotted\",linewidth=1)\n",
    "        ax.set_title(\"Generation: \" + str(i))\n",
    "        fig.savefig(f\"fancy/{i}.png\")\n"
   ]
  },
  {
   "cell_type": "code",
   "execution_count": null,
   "metadata": {},
   "outputs": [],
   "source": [
    "!pip install imageio\n",
    "import imageio\n",
    "images = []\n",
    "for filename in os.list_dir(\"/Users/cetiners/Desktop/Thesis/human_error/fancy\"):\n",
    "    images.append(imageio.imread(filename))\n",
    "imageio.mimsave('/fancy/ohhhhyeaaah.gif', images)\n"
   ]
  },
  {
   "cell_type": "code",
   "execution_count": null,
   "metadata": {},
   "outputs": [],
   "source": [
    "dc = {\"a\" : 2, \"b\" : 2}"
   ]
  },
  {
   "cell_type": "code",
   "execution_count": null,
   "metadata": {},
   "outputs": [],
   "source": [
    "nw.meta.keys()"
   ]
  },
  {
   "cell_type": "code",
   "execution_count": null,
   "metadata": {},
   "outputs": [],
   "source": [
    "\n",
    "fig, ax = plt.subplots()\n",
    "fig.set_dpi(150)\n",
    "fig.set_size_inches(15, 15)\n",
    "for a in ['unblurred', 'final']:\n",
    "    ax.imshow(nw.meta[a].T, alpha=.66)\n",
    "ax.set_title(a)\n",
    "#ax.scatter(x, y, c=\"black\", s=15)\n",
    "#ax.scatter(x_1, y_1, c=\"red\", s=15)"
   ]
  },
  {
   "cell_type": "code",
   "execution_count": null,
   "metadata": {},
   "outputs": [],
   "source": []
  }
 ],
 "metadata": {
  "kernelspec": {
   "display_name": "Python 3.8.2 ('base')",
   "language": "python",
   "name": "python3"
  },
  "language_info": {
   "codemirror_mode": {
    "name": "ipython",
    "version": 3
   },
   "file_extension": ".py",
   "mimetype": "text/x-python",
   "name": "python",
   "nbconvert_exporter": "python",
   "pygments_lexer": "ipython3",
   "version": "3.8.2"
  },
  "orig_nbformat": 4,
  "vscode": {
   "interpreter": {
    "hash": "146f15e2230608c28443929e64adcd60233b3a921e350bba4bd151e87ecd2077"
   }
  }
 },
 "nbformat": 4,
 "nbformat_minor": 2
}
