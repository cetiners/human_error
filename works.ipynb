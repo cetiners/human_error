{
 "cells": [
  {
   "cell_type": "code",
   "execution_count": 12,
   "metadata": {},
   "outputs": [],
   "source": [
    "import os\n",
    "import pickle\n",
    "import itertools\n",
    "import pandas as pd\n",
    "\n",
    "from matplotlib import colors\n",
    "import matplotlib.pyplot as plt\n",
    "\n",
    "from map_engine.map_generator import map\n",
    "\n",
    "from quest_engine.quest_generator import *\n",
    "from quest_engine.freytags_fitness import freytags\n",
    "\n",
    "from encounter_engine.world_encounters import *\n",
    "\n",
    "from character_engine.character import *"
   ]
  },
  {
   "cell_type": "code",
   "execution_count": 13,
   "metadata": {},
   "outputs": [
    {
     "name": "stderr",
     "output_type": "stream",
     "text": [
      "/Users/cetiners/Desktop/Thesis/human_error/map_engine/map_attributer.py:104: RuntimeWarning: invalid value encountered in divide\n",
      "  average = sum_/count\n"
     ]
    },
    {
     "name": "stdout",
     "output_type": "stream",
     "text": [
      "Centroids attributed, attributes centroited\n",
      "Centroids attributed, attributes centroited\n"
     ]
    }
   ],
   "source": [
    "nw = map()\n",
    "nw.populate_map(n_locations=1024, name=\"terrain\", relaxed=True, k=100)\n",
    "nw.populate_map(n_locations=4096, name=\"civilisation\", relaxed=True, k=250)\n",
    "nw.populate_map(n_locations=36, name=\"story_act\", relaxed=True, k=250)\n",
    "nw.populate_map(n_locations=1024, name=\"threat\", relaxed=True, k=100)\n",
    "\n",
    "nw.attribute_view(seed_1=24, seed_2=34,\n",
    "                  map_name=\"terrain\", view_name=\"terrain\")\n",
    "nw.attribute_view(seed_1=98, seed_2=50, map_name=\"civilisation\",\n",
    "                  view_name=\"civilisation\", double=False)\n",
    "nw.attribute_view(seed_1=34, seed_2=34, map_name=\"threat\",\n",
    "                  view_name=\"threat\", double=False)\n",
    "nw.attribute_view(seed_1=16, seed_2=16, map_name=\"story_act\",\n",
    "                  view_name=\"story_act\", double=False)\n",
    "\n",
    "nw.attribute_centroids(\"civilisation\")\n",
    "nw.attribute_centroids(\"terrain\")\n",
    "nw.land_mask()\n",
    "\n",
    "with open('logs/map_nw', 'wb') as f:\n",
    "    pickle.dump(nw, f)\n",
    "\n",
    "with open(\"logs/map_nw\", \"rb\") as f:\n",
    "    nw = pickle.load(f)"
   ]
  },
  {
   "cell_type": "code",
   "execution_count": 15,
   "metadata": {},
   "outputs": [
    {
     "name": "stdout",
     "output_type": "stream",
     "text": [
      "Found the required individual on gen 10\n",
      "Found the required individual on gen 9\n",
      "Found the required individual on gen 15\n",
      "Found the required individual on gen 3\n"
     ]
    },
    {
     "ename": "KeyboardInterrupt",
     "evalue": "",
     "output_type": "error",
     "traceback": [
      "\u001b[0;31m---------------------------------------------------------------------------\u001b[0m",
      "\u001b[0;31mKeyboardInterrupt\u001b[0m                         Traceback (most recent call last)",
      "Cell \u001b[0;32mIn [15], line 21\u001b[0m\n\u001b[1;32m      5\u001b[0m \u001b[39mfor\u001b[39;00m param \u001b[39min\u001b[39;00m [p \u001b[39mfor\u001b[39;00m p \u001b[39min\u001b[39;00m itertools\u001b[39m.\u001b[39mproduct(\u001b[39m*\u001b[39m[muts,xos,mups])]:\n\u001b[1;32m      7\u001b[0m             params \u001b[39m=\u001b[39m {\n\u001b[1;32m      8\u001b[0m                 \u001b[39m\"\u001b[39m\u001b[39mmap\u001b[39m\u001b[39m\"\u001b[39m           :   nw,\n\u001b[1;32m      9\u001b[0m                 \u001b[39m\"\u001b[39m\u001b[39mmutation\u001b[39m\u001b[39m\"\u001b[39m      :   param[\u001b[39m0\u001b[39m],\n\u001b[0;32m   (...)\u001b[0m\n\u001b[1;32m     18\u001b[0m                 \u001b[39m\"\u001b[39m\u001b[39mearly_stop\u001b[39m\u001b[39m\"\u001b[39m    :   \u001b[39mTrue\u001b[39;00m,\n\u001b[1;32m     19\u001b[0m             }\n\u001b[0;32m---> 21\u001b[0m             ql \u001b[39m=\u001b[39m quest_library(params\u001b[39m=\u001b[39;49mparams)\n",
      "File \u001b[0;32m~/Desktop/Thesis/human_error/quest_engine/quest_generator.py:365\u001b[0m, in \u001b[0;36mquest_library.__init__\u001b[0;34m(self, params)\u001b[0m\n\u001b[1;32m    363\u001b[0m     ind\u001b[39m.\u001b[39mplace_quest_npc()\n\u001b[1;32m    364\u001b[0m \u001b[39melse\u001b[39;00m:\n\u001b[0;32m--> 365\u001b[0m     ind \u001b[39m=\u001b[39m pop\u001b[39m.\u001b[39;49mevolve(gens\u001b[39m=\u001b[39;49m\u001b[39mself\u001b[39;49m\u001b[39m.\u001b[39;49mgens,early_stop\u001b[39m=\u001b[39;49m\u001b[39mself\u001b[39;49m\u001b[39m.\u001b[39;49mearly_stop, mu_p\u001b[39m=\u001b[39;49m\u001b[39mself\u001b[39;49m\u001b[39m.\u001b[39;49mmu_p, xo\u001b[39m=\u001b[39;49m\u001b[39mself\u001b[39;49m\u001b[39m.\u001b[39;49mxo, mutation\u001b[39m=\u001b[39;49m\u001b[39mself\u001b[39;49m\u001b[39m.\u001b[39;49mmutation,print_it\u001b[39m=\u001b[39;49m\u001b[39mself\u001b[39;49m\u001b[39m.\u001b[39;49mprint_it)\n\u001b[1;32m    366\u001b[0m     ind\u001b[39m.\u001b[39mplace_quest_npc()\n\u001b[1;32m    368\u001b[0m \u001b[39mif\u001b[39;00m \u001b[39mself\u001b[39m\u001b[39m.\u001b[39mlog:\n",
      "File \u001b[0;32m~/Desktop/Thesis/human_error/quest_engine/quest_generator.py:284\u001b[0m, in \u001b[0;36mquest_pop.evolve\u001b[0;34m(self, early_stop, gens, mu_p, mutation, xo, print_it)\u001b[0m\n\u001b[1;32m    281\u001b[0m         suitable \u001b[39m=\u001b[39m \u001b[39mTrue\u001b[39;00m\n\u001b[1;32m    283\u001b[0m \u001b[39mif\u001b[39;00m xo \u001b[39m==\u001b[39m \u001b[39m\"\u001b[39m\u001b[39mpmx\u001b[39m\u001b[39m\"\u001b[39m:\n\u001b[0;32m--> 284\u001b[0m     offspring1, offspring2 \u001b[39m=\u001b[39m q_ax_pmx(parent1, parent2)\n\u001b[1;32m    285\u001b[0m \u001b[39mif\u001b[39;00m xo \u001b[39m==\u001b[39m \u001b[39m\"\u001b[39m\u001b[39msingle_point\u001b[39m\u001b[39m\"\u001b[39m:\n\u001b[1;32m    286\u001b[0m     offspring1, offspring2 \u001b[39m=\u001b[39m q_sp_xo(parent1, parent2)\n",
      "File \u001b[0;32m~/Desktop/Thesis/human_error/quest_engine/quest_ga/crossover.py:20\u001b[0m, in \u001b[0;36mq_ax_pmx\u001b[0;34m(parent_1, parent_2)\u001b[0m\n\u001b[1;32m     17\u001b[0m parent_1_coor_y \u001b[39m=\u001b[39m [i[\u001b[39m1\u001b[39m] \u001b[39mfor\u001b[39;00m i \u001b[39min\u001b[39;00m parent_1\u001b[39m.\u001b[39mpath] \n\u001b[1;32m     18\u001b[0m parent_2_coor_y \u001b[39m=\u001b[39m [i[\u001b[39m1\u001b[39m] \u001b[39mfor\u001b[39;00m i \u001b[39min\u001b[39;00m parent_2\u001b[39m.\u001b[39mpath]\n\u001b[0;32m---> 20\u001b[0m offspring_1 \u001b[39m=\u001b[39m quest(parent_1\u001b[39m.\u001b[39;49mmap,parent_1\u001b[39m.\u001b[39;49mact,parent_1\u001b[39m.\u001b[39;49msteps)\n\u001b[1;32m     21\u001b[0m offspring_2 \u001b[39m=\u001b[39m quest(parent_2\u001b[39m.\u001b[39mmap,parent_2\u001b[39m.\u001b[39mact,parent_2\u001b[39m.\u001b[39msteps)\n\u001b[1;32m     23\u001b[0m cut_points_x \u001b[39m=\u001b[39m [random\u001b[39m.\u001b[39mrandint(\u001b[39m0\u001b[39m,parent_1\u001b[39m.\u001b[39msteps\u001b[39m-\u001b[39m\u001b[39m1\u001b[39m)]\n",
      "File \u001b[0;32m~/Desktop/Thesis/human_error/quest_engine/quest_generator.py:54\u001b[0m, in \u001b[0;36mquest.__init__\u001b[0;34m(self, map, act, steps)\u001b[0m\n\u001b[1;32m     52\u001b[0m \u001b[39mself\u001b[39m\u001b[39m.\u001b[39mdifficulty \u001b[39m=\u001b[39m \u001b[39mself\u001b[39m\u001b[39m.\u001b[39mcheck_difficulty()\n\u001b[1;32m     53\u001b[0m \u001b[39mself\u001b[39m\u001b[39m.\u001b[39mpath_act \u001b[39m=\u001b[39m \u001b[39mself\u001b[39m\u001b[39m.\u001b[39mact_check()\n\u001b[0;32m---> 54\u001b[0m \u001b[39mself\u001b[39m\u001b[39m.\u001b[39mfitness \u001b[39m=\u001b[39m \u001b[39mself\u001b[39;49m\u001b[39m.\u001b[39;49mcheck_fitness()\n\u001b[1;32m     55\u001b[0m \u001b[39mself\u001b[39m\u001b[39m.\u001b[39mpath_threat \u001b[39m=\u001b[39m \u001b[39mself\u001b[39m\u001b[39m.\u001b[39mcheck_threat()\n\u001b[1;32m     56\u001b[0m \u001b[39mself\u001b[39m\u001b[39m.\u001b[39mis_npc \u001b[39m=\u001b[39m \u001b[39mself\u001b[39m\u001b[39m.\u001b[39mhold_npc_place()\n",
      "File \u001b[0;32m~/Desktop/Thesis/human_error/quest_engine/quest_generator.py:77\u001b[0m, in \u001b[0;36mquest.check_fitness\u001b[0;34m(self)\u001b[0m\n\u001b[1;32m     75\u001b[0m \u001b[39mfor\u001b[39;00m centroid \u001b[39min\u001b[39;00m \u001b[39mself\u001b[39m\u001b[39m.\u001b[39mmap\u001b[39m.\u001b[39matr_centroids[\u001b[39m\"\u001b[39m\u001b[39mcity\u001b[39m\u001b[39m\"\u001b[39m]:\n\u001b[1;32m     76\u001b[0m     min_dist \u001b[39m=\u001b[39m \u001b[39m9999999\u001b[39m\n\u001b[0;32m---> 77\u001b[0m     dist \u001b[39m=\u001b[39m basic_distance(location, centroid)\n\u001b[1;32m     78\u001b[0m     \u001b[39mif\u001b[39;00m dist \u001b[39m<\u001b[39m min_dist:\n\u001b[1;32m     79\u001b[0m         min_dist \u001b[39m=\u001b[39m dist\n",
      "File \u001b[0;32m~/Desktop/Thesis/human_error/tools/utils.py:9\u001b[0m, in \u001b[0;36mbasic_distance\u001b[0;34m(coord_1, coord_2)\u001b[0m\n\u001b[1;32m      7\u001b[0m x2 \u001b[39m=\u001b[39m (coord_1[\u001b[39m0\u001b[39m]\u001b[39m-\u001b[39mcoord_2[\u001b[39m0\u001b[39m])\u001b[39m*\u001b[39m\u001b[39m*\u001b[39m\u001b[39m2\u001b[39m\n\u001b[1;32m      8\u001b[0m y2 \u001b[39m=\u001b[39m (coord_1[\u001b[39m1\u001b[39m]\u001b[39m-\u001b[39mcoord_2[\u001b[39m1\u001b[39m])\u001b[39m*\u001b[39m\u001b[39m*\u001b[39m\u001b[39m2\u001b[39m\n\u001b[0;32m----> 9\u001b[0m dist \u001b[39m=\u001b[39m np\u001b[39m.\u001b[39;49msqrt((x2\u001b[39m+\u001b[39;49my2))\n\u001b[1;32m     11\u001b[0m \u001b[39mreturn\u001b[39;00m dist\n",
      "\u001b[0;31mKeyboardInterrupt\u001b[0m: "
     ]
    }
   ],
   "source": [
    "\n",
    "muts = [\"complete\",\"single_point\",\"random_point\"]\n",
    "xos = [\"pmx\",\"single_point\",\"ar\"]\n",
    "mups =  [.2,.4,.6,.8]\n",
    "\n",
    "for param in [p for p in itertools.product(*[muts,xos,mups])]:\n",
    "\n",
    "            params = {\n",
    "                \"map\"           :   nw,\n",
    "                \"mutation\"      :   param[0],\n",
    "                \"xo\"            :   param[1],\n",
    "                \"mu_p\"          :   param[2],\n",
    "                \"gens\"          :   500,\n",
    "                \"shelf_size\"    :   200,\n",
    "                \"pop_size\"      :   100,\n",
    "                \"print_it\"      :   False,\n",
    "                \"brute_force\"   :   False,\n",
    "                \"log\"           :   True,\n",
    "                \"early_stop\"    :   True,\n",
    "            }\n",
    "\n",
    "            ql = quest_library(params=params)"
   ]
  },
  {
   "cell_type": "code",
   "execution_count": 16,
   "metadata": {},
   "outputs": [
    {
     "ename": "ValueError",
     "evalue": "No objects to concatenate",
     "output_type": "error",
     "traceback": [
      "\u001b[0;31m---------------------------------------------------------------------------\u001b[0m",
      "\u001b[0;31mValueError\u001b[0m                                Traceback (most recent call last)",
      "Cell \u001b[0;32mIn [16], line 5\u001b[0m\n\u001b[1;32m      2\u001b[0m files \u001b[39m=\u001b[39m os\u001b[39m.\u001b[39mlistdir(path)\n\u001b[1;32m      3\u001b[0m files \u001b[39m=\u001b[39m [f \u001b[39mfor\u001b[39;00m f \u001b[39min\u001b[39;00m files \u001b[39mif\u001b[39;00m f\u001b[39m.\u001b[39mendswith(\u001b[39m\"\u001b[39m\u001b[39m.csv\u001b[39m\u001b[39m\"\u001b[39m)]\n\u001b[0;32m----> 5\u001b[0m df \u001b[39m=\u001b[39m pd\u001b[39m.\u001b[39;49mconcat([pd\u001b[39m.\u001b[39;49mread_csv(path\u001b[39m+\u001b[39;49mf) \u001b[39mfor\u001b[39;49;00m f \u001b[39min\u001b[39;49;00m files])\n\u001b[1;32m      8\u001b[0m \u001b[39mfor\u001b[39;00m f \u001b[39min\u001b[39;00m files:\n\u001b[1;32m      9\u001b[0m     os\u001b[39m.\u001b[39mremove(path\u001b[39m+\u001b[39mf)\n",
      "File \u001b[0;32m~/Desktop/Thesis/human_error/he_environment/lib/python3.8/site-packages/pandas/util/_decorators.py:317\u001b[0m, in \u001b[0;36mwrapper\u001b[0;34m(*args, **kwargs)\u001b[0m\n",
      "File \u001b[0;32m~/Desktop/Thesis/human_error/he_environment/lib/python3.8/site-packages/pandas/core/reshape/concat.py:369\u001b[0m, in \u001b[0;36mconcat\u001b[0;34m(objs, axis, join, ignore_index, keys, levels, names, verify_integrity, sort, copy)\u001b[0m\n",
      "File \u001b[0;32m~/Desktop/Thesis/human_error/he_environment/lib/python3.8/site-packages/pandas/core/reshape/concat.py:426\u001b[0m, in \u001b[0;36m__init__\u001b[0;34m(self, objs, axis, join, keys, levels, names, ignore_index, verify_integrity, copy, sort)\u001b[0m\n",
      "\u001b[0;31mValueError\u001b[0m: No objects to concatenate"
     ]
    }
   ],
   "source": [
    "\n",
    "path = \"logs/\"\n",
    "files = os.listdir(path)\n",
    "files = [f for f in files if f.endswith(\".csv\")]\n",
    "\n",
    "df = pd.concat([pd.read_csv(path+f) for f in files])\n",
    "\n",
    "\n",
    "for f in files:\n",
    "    os.remove(path+f)\n",
    "    \n",
    "df.to_csv(\"logs/merged.csv\", index=False)\n",
    "\n",
    "\n"
   ]
  },
  {
   "cell_type": "code",
   "execution_count": null,
   "metadata": {},
   "outputs": [],
   "source": []
  }
 ],
 "metadata": {
  "kernelspec": {
   "display_name": "Python 3.8.2 ('he_environment': venv)",
   "language": "python",
   "name": "python3"
  },
  "language_info": {
   "codemirror_mode": {
    "name": "ipython",
    "version": 3
   },
   "file_extension": ".py",
   "mimetype": "text/x-python",
   "name": "python",
   "nbconvert_exporter": "python",
   "pygments_lexer": "ipython3",
   "version": "3.8.2"
  },
  "orig_nbformat": 4,
  "vscode": {
   "interpreter": {
    "hash": "7aa252655a8ac23f2dc825027b3a4667856376cf4e6ab1b899d6c68f0ca4c17e"
   }
  }
 },
 "nbformat": 4,
 "nbformat_minor": 2
}
