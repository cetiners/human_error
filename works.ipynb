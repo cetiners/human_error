{
 "cells": [
  {
   "cell_type": "code",
   "execution_count": 26,
   "metadata": {},
   "outputs": [],
   "source": [
    "from map_manager.map_generator import map\n",
    "from map_manager.noise import toddler\n",
    "from map_manager.world_encounters import *\n",
    "from genetic_algorithm.crossover import * \n",
    "from genetic_algorithm.mutation import * "
   ]
  },
  {
   "cell_type": "code",
   "execution_count": 27,
   "metadata": {},
   "outputs": [
    {
     "name": "stderr",
     "output_type": "stream",
     "text": [
      "/Users/cetiners/Desktop/Thesis/human_error/map_manager/map_attributer.py:84: RuntimeWarning: invalid value encountered in true_divide\n",
      "  average = sum_/count\n"
     ]
    },
    {
     "data": {
      "text/plain": [
       "array([[4., 4., 4., ..., 1., 1., 1.],\n",
       "       [4., 4., 4., ..., 1., 1., 1.],\n",
       "       [4., 4., 4., ..., 1., 1., 1.],\n",
       "       ...,\n",
       "       [4., 4., 4., ..., 4., 4., 4.],\n",
       "       [4., 4., 4., ..., 4., 4., 4.],\n",
       "       [4., 4., 4., ..., 4., 4., 4.]])"
      ]
     },
     "execution_count": 27,
     "metadata": {},
     "output_type": "execute_result"
    }
   ],
   "source": [
    "nw = map()\n",
    "\n",
    "nw.populate_map(n_locations=1024, name=\"terrain\",relaxed=True,k=100)\n",
    "nw.populate_map(n_locations=1024, name=\"civilisation\",relaxed=True,k=100)\n",
    "nw.populate_map(n_locations=1024, name=\"threat\",relaxed=True, k=100)\n",
    "nw.populate_map(n_locations=1024, name=\"faction\",relaxed=True, k=100)\n",
    "\n",
    "\n",
    "nw.attribute_view(seed_1=20,seed_2=30,map_name=\"terrain\",view_name=\"terrain\")\n",
    "nw.attribute_view(seed_1=40,seed_2=50,map_name=\"civilisation\",view_name=\"civilisation\")\n",
    "nw.attribute_view(seed_1=34,seed_2=34,map_name=\"threat\",view_name=\"threat\",double=False)\n",
    "nw.attribute_view(seed_1=67,seed_2=89,map_name=\"faction\",view_name=\"faction\",double=True)"
   ]
  },
  {
   "cell_type": "code",
   "execution_count": 28,
   "metadata": {},
   "outputs": [],
   "source": [
    "pop = pack_population(nw,pop_size=100,type=\"camel\",pack_size=25,encounter_type=\"friendly_animals\")"
   ]
  },
  {
   "cell_type": "code",
   "execution_count": 24,
   "metadata": {},
   "outputs": [],
   "source": [
    "pop = pack_population(nw,pop_size=100,type=\"camel\",pack_size=25,encounter_type=\"friendly_animals\")\n",
    "\n",
    "min_val = min(pop.population, key=operator.attrgetter('pack_fitness')).pack_fitness\n",
    "\n",
    "max = sum([i.pack_fitness + abs(min_val) for i in pop.population])\n",
    "#\n",
    "selection_probs = [(c.pack_fitness + abs(min_val))/max for c in pop.population]\n",
    "#\n",
    "selected_individual = pop.population[npr.choice(len(pop.population), p=selection_probs)]"
   ]
  },
  {
   "cell_type": "code",
   "execution_count": 25,
   "metadata": {},
   "outputs": [
    {
     "data": {
      "text/plain": [
       "<map_manager.world_encounters.pack at 0x7fec19e73040>"
      ]
     },
     "execution_count": 25,
     "metadata": {},
     "output_type": "execute_result"
    }
   ],
   "source": [
    "selected_individual"
   ]
  },
  {
   "cell_type": "code",
   "execution_count": null,
   "metadata": {},
   "outputs": [],
   "source": [
    "pop.population[0].pack_fitness\n",
    "sorted_x = sorted(pop.population, key=operator.attrgetter('pack_fitness'))"
   ]
  },
  {
   "cell_type": "code",
   "execution_count": null,
   "metadata": {},
   "outputs": [],
   "source": [
    "\n",
    "civ = nw.views[\"civilisation\"].copy()\n",
    "ter = nw.views[\"terrain\"].copy()\n",
    "thr = nw.views[\"threat\"].copy()\n",
    "fac = nw.views[\"faction\"].copy()\n",
    "\n",
    "for i in range(1024):\n",
    "    for j in range(1024):\n",
    "        civ[i,j] += 1\n",
    "        ter[i,j] += 1\n",
    "        thr[i,j] += 1\n",
    "        fac[i,j] += 1\n",
    "\n",
    "import matplotlib.pyplot as plt\n",
    "import numpy as np \n",
    "\n",
    "fig, ax = plt.subplots(1,4)\n",
    "fig.set_dpi(150)\n",
    "fig.set_size_inches(18, 6)\n",
    "\n",
    "import random\n",
    "seed=random.randint(1,100)\n",
    "res=2\n",
    "octaves = 15\n",
    "persistence = 0.60\n",
    "lacunarity = 2\n",
    "mask = toddler(size=1024, seed=seed,res=res, octaves = octaves, persistence = persistence, lacunarity = lacunarity,mask=True)\n",
    "\n",
    "ax[0].imshow(civ*(np.invert(mask)),cmap=\"Greens\")\n",
    "ax[0].set_title(\"Civilisation\")\n",
    "\n",
    "ax[1].imshow(ter*(np.invert(mask)),cmap=\"Blues\")\n",
    "ax[1].set_title(\"Terrain\")\n",
    "\n",
    "ax[2].imshow(thr*(np.invert(mask)),cmap=\"Reds\")\n",
    "ax[2].set_title(\"Threat\")\n",
    "\n",
    "ax[3].imshow(fac*(np.invert(mask)),cmap=\"Greys\")\n",
    "ax[3].set_title(\"Factions\")"
   ]
  },
  {
   "cell_type": "code",
   "execution_count": null,
   "metadata": {},
   "outputs": [],
   "source": [
    "[i for i in range(3)]"
   ]
  },
  {
   "cell_type": "code",
   "execution_count": null,
   "metadata": {},
   "outputs": [],
   "source": [
    "random.random()"
   ]
  },
  {
   "cell_type": "code",
   "execution_count": null,
   "metadata": {},
   "outputs": [],
   "source": []
  }
 ],
 "metadata": {
  "interpreter": {
   "hash": "146f15e2230608c28443929e64adcd60233b3a921e350bba4bd151e87ecd2077"
  },
  "kernelspec": {
   "display_name": "Python 3.8.2 64-bit ('base': conda)",
   "name": "python3"
  },
  "language_info": {
   "codemirror_mode": {
    "name": "ipython",
    "version": 3
   },
   "file_extension": ".py",
   "mimetype": "text/x-python",
   "name": "python",
   "nbconvert_exporter": "python",
   "pygments_lexer": "ipython3",
   "version": "3.8.2"
  },
  "orig_nbformat": 4
 },
 "nbformat": 4,
 "nbformat_minor": 2
}
