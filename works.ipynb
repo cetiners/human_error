{
 "cells": [
  {
   "cell_type": "code",
   "execution_count": 1,
   "metadata": {},
   "outputs": [
    {
     "name": "stdout",
     "output_type": "stream",
     "text": [
      "\u001b[H\u001b[2J"
     ]
    }
   ],
   "source": [
    "from map_manager.map_generator import map\n",
    "from map_manager.noise import toddler\n",
    "from map_manager.world_encounters import *\n",
    "from genetic_algorithm.crossover import * \n",
    "from genetic_algorithm.mutation import * \n",
    "import pickle"
   ]
  },
  {
   "cell_type": "code",
   "execution_count": 6,
   "metadata": {},
   "outputs": [
    {
     "name": "stderr",
     "output_type": "stream",
     "text": [
      "/Users/cetiners/Desktop/Thesis/human_error/map_manager/map_attributer.py:84: RuntimeWarning: invalid value encountered in true_divide\n",
      "  average = sum_/count\n"
     ]
    },
    {
     "name": "stdout",
     "output_type": "stream",
     "text": [
      "Centroids attributed, attributes centroited\n"
     ]
    }
   ],
   "source": [
    "nw = map()\n",
    "\n",
    "nw.populate_map(n_locations=256, name=\"terrain\",relaxed=True,k=100)\n",
    "#nw.populate_map(n_locations=1024, name=\"civilisation\",relaxed=True,k=100)\n",
    "#nw.populate_map(n_locations=1024, name=\"threat\",relaxed=True, k=100)\n",
    "#nw.populate_map(n_locations=1024, name=\"faction\",relaxed=True, k=100)\n",
    "\n",
    "nw.attribute_view(seed_1=24,seed_2=32,map_name=\"terrain\",view_name=\"terrain\")\n",
    "#nw.attribute_view(seed_1=40,seed_2=50,map_name=\"civilisation\",view_name=\"civilisation\")\n",
    "#nw.attribute_view(seed_1=34,seed_2=34,map_name=\"threat\",view_name=\"threat\",double=False)\n",
    "#nw.attribute_view(seed_1=67,seed_2=89,map_name=\"faction\",view_name=\"faction\",double=True)\n",
    "\n",
    "#picklefile = open('nw', 'wb')\n",
    "#pickle.dump(nw, picklefile)\n",
    "#picklefile.close()\n",
    "#\n",
    "#with open(\"nw\",\"rb\") as f:\n",
    "#    nw = pickle.load(f)\n",
    "\n",
    "nw.attribute_centroids(\"terrain\")\n",
    "nw.land_mask()\n"
   ]
  },
  {
   "cell_type": "code",
   "execution_count": 8,
   "metadata": {},
   "outputs": [
    {
     "name": "stdout",
     "output_type": "stream",
     "text": [
      "tundra 19\n",
      "rainforest 27\n",
      "desert 40\n",
      "grassland 76\n",
      "mountain 45\n",
      "forest 28\n"
     ]
    }
   ],
   "source": [
    "for i in nw.atr_centroids:\n",
    "    print(i,len(nw.atr_centroids[i]))"
   ]
  },
  {
   "cell_type": "code",
   "execution_count": null,
   "metadata": {},
   "outputs": [],
   "source": [
    "pop = pack_population(nw,pop_size=50,type=\"camel\",pack_size=50,encounter_type=\"friendly_animals\")\n",
    "\n",
    "pop.evolve(200,mu_p=0.20,save=False)"
   ]
  },
  {
   "cell_type": "code",
   "execution_count": null,
   "metadata": {},
   "outputs": [],
   "source": [
    "view_noises[\"terrain\"][\"atr_list\"]"
   ]
  },
  {
   "cell_type": "code",
   "execution_count": null,
   "metadata": {},
   "outputs": [],
   "source": [
    "a = nw.centroids[\"terrain\"] \n",
    "#civ = nw.views[\"civilisation\"].copy()\n",
    "ter = nw.views[\"terrain\"].copy()\n",
    "#thr = nw.views[\"threat\"].copy()\n",
    "#fac = nw.views[\"faction\"].copy()\n",
    "\n",
    "for i in range(1024):\n",
    "    \n",
    "    for j in range(1024):\n",
    "\n",
    "        civ[i,j] -= 1\n",
    "        ter[i,j] -= 1\n",
    "        thr[i,j] -= 1\n",
    "        fac[i,j] -= 1\n",
    "\n",
    "import matplotlib.pyplot as plt\n",
    "import numpy as np \n",
    "\n",
    "fig, ax = plt.subplots(1,4)\n",
    "fig.set_dpi(150)\n",
    "fig.set_size_inches(18, 6)\n",
    "\n",
    "import random\n",
    "seed=random.randint(1,100)\n",
    "res=2\n",
    "octaves = 15\n",
    "persistence = 0.60\n",
    "lacunarity = 2\n",
    "\n",
    "##ax[0].imshow(civ,cmap=\"Greens\")\n",
    "##ax[0].set_title(\"Civilisation\")\n",
    "##ax[0].scatter(x=[i[0] for i in a], y=[i[1] for i in a],color=\"Black\", s=4)\n",
    "\n",
    "ax[1].imshow(ter,cmap=\"Blues\")\n",
    "ax[1].set_title(\"Terrain\")\n",
    "ax[1].scatter(x=[i[0] for i in a], y=[i[1] for i in a],color=\"Black\",s=5)\n",
    "\n",
    "\n",
    "#ax[2].imshow(thr,cmap=\"Reds\")\n",
    "#ax[2].set_title(\"Threat\")\n",
    "#ax[2].scatter(x=[i[0] for i in a], y=[i[1] for i in a],color=\"Black\")\n",
    "\n",
    "\n",
    "#ax[3].imshow(fac,cmap=\"Greys\")\n",
    "#ax[3].set_title(\"Factions\")\n",
    "#ax[3].scatter(x=[i[0] for i in a], y=[i[1] for i in a],color=\"Black\")\n",
    "\n"
   ]
  },
  {
   "cell_type": "code",
   "execution_count": null,
   "metadata": {},
   "outputs": [],
   "source": [
    "len(a)"
   ]
  },
  {
   "cell_type": "code",
   "execution_count": null,
   "metadata": {},
   "outputs": [],
   "source": [
    "a,b = rank_selection(pop)"
   ]
  },
  {
   "cell_type": "code",
   "execution_count": null,
   "metadata": {},
   "outputs": [],
   "source": []
  }
 ],
 "metadata": {
  "interpreter": {
   "hash": "146f15e2230608c28443929e64adcd60233b3a921e350bba4bd151e87ecd2077"
  },
  "kernelspec": {
   "display_name": "Python 3.8.2 64-bit ('base': conda)",
   "name": "python3"
  },
  "language_info": {
   "codemirror_mode": {
    "name": "ipython",
    "version": 3
   },
   "file_extension": ".py",
   "mimetype": "text/x-python",
   "name": "python",
   "nbconvert_exporter": "python",
   "pygments_lexer": "ipython3",
   "version": "3.8.2"
  },
  "orig_nbformat": 4
 },
 "nbformat": 4,
 "nbformat_minor": 2
}
