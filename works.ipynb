{
 "cells": [
  {
   "cell_type": "code",
   "execution_count": 1,
   "metadata": {},
   "outputs": [
    {
     "name": "stdout",
     "output_type": "stream",
     "text": [
      "\u001b[H\u001b[2J"
     ]
    }
   ],
   "source": [
    "from map_manager.map_generator import map\n",
    "from map_manager.world_encounters import *\n",
    "import pickle\n",
    "from matplotlib import colors\n",
    "from tools.utils import required_n_enc"
   ]
  },
  {
   "cell_type": "code",
   "execution_count": 2,
   "metadata": {},
   "outputs": [
    {
     "name": "stderr",
     "output_type": "stream",
     "text": [
      "/Users/cetiners/Desktop/Thesis/human_error/map_manager/map_attributer.py:84: RuntimeWarning: invalid value encountered in true_divide\n",
      "  average = sum_/count\n"
     ]
    },
    {
     "name": "stdout",
     "output_type": "stream",
     "text": [
      "Centroids attributed, attributes centroited\n"
     ]
    }
   ],
   "source": [
    "nw = map()\n",
    "\n",
    "nw.populate_map(n_locations=1024, name=\"terrain\",relaxed=True,k=100)\n",
    "nw.populate_map(n_locations=1024, name=\"civilisation\",relaxed=True,k=100)\n",
    "nw.populate_map(n_locations=1024, name=\"threat\",relaxed=True, k=100)\n",
    "nw.populate_map(n_locations=1024, name=\"faction\",relaxed=True, k=100)\n",
    "\n",
    "nw.attribute_view(seed_1=24,seed_2=34,map_name=\"terrain\",view_name=\"terrain\")\n",
    "nw.attribute_view(seed_1=40,seed_2=50,map_name=\"civilisation\",view_name=\"civilisation\")\n",
    "nw.attribute_view(seed_1=34,seed_2=34,map_name=\"threat\",view_name=\"threat\",double=False)\n",
    "nw.attribute_view(seed_1=67,seed_2=89,map_name=\"faction\",view_name=\"faction\",double=True)\n",
    "\n",
    "nw.attribute_centroids(\"terrain\")\n",
    "nw.land_mask()\n"
   ]
  },
  {
   "cell_type": "code",
   "execution_count": 3,
   "metadata": {},
   "outputs": [],
   "source": [
    "pop = pack_population(nw,pop_size=100,type=\"camel\",pack_size=100)"
   ]
  },
  {
   "cell_type": "code",
   "execution_count": 5,
   "metadata": {},
   "outputs": [
    {
     "name": "stdout",
     "output_type": "stream",
     "text": [
      "\n",
      "Gen 60 evolving:\n",
      "Found individuals: 5\n",
      "\n",
      "Gen 61 evolving:\n"
     ]
    },
    {
     "ename": "KeyboardInterrupt",
     "evalue": "",
     "output_type": "error",
     "traceback": [
      "\u001b[0;31m---------------------------------------------------------------------------\u001b[0m",
      "\u001b[0;31mKeyboardInterrupt\u001b[0m                         Traceback (most recent call last)",
      "\u001b[1;32m/Users/cetiners/Desktop/Thesis/human_error/works.ipynb Cell 4\u001b[0m in \u001b[0;36m<cell line: 1>\u001b[0;34m()\u001b[0m\n\u001b[0;32m----> <a href='vscode-notebook-cell:/Users/cetiners/Desktop/Thesis/human_error/works.ipynb#W3sZmlsZQ%3D%3D?line=0'>1</a>\u001b[0m a,b \u001b[39m=\u001b[39m pop\u001b[39m.\u001b[39;49mevolve(mu_p\u001b[39m=\u001b[39;49m\u001b[39m0.22\u001b[39;49m,mutation\u001b[39m=\u001b[39;49m\u001b[39m\"\u001b[39;49m\u001b[39mcomplete\u001b[39;49m\u001b[39m\"\u001b[39;49m)\n",
      "File \u001b[0;32m~/Desktop/Thesis/human_error/map_manager/world_encounters.py:202\u001b[0m, in \u001b[0;36mpack_population.evolve\u001b[0;34m(self, gens, mu_p, crossover, mutation, world_atlas, yellow_pages, early_stop)\u001b[0m\n\u001b[1;32m    197\u001b[0m \u001b[39m# to assess if things are going well:\u001b[39;00m\n\u001b[1;32m    198\u001b[0m \n\u001b[1;32m    199\u001b[0m \u001b[39m# Crossover\u001b[39;00m\n\u001b[1;32m    200\u001b[0m \u001b[39mif\u001b[39;00m crossover \u001b[39m==\u001b[39m \u001b[39m\"\u001b[39m\u001b[39max_pmx\u001b[39m\u001b[39m\"\u001b[39m:\n\u001b[0;32m--> 202\u001b[0m     offspring1, offspring2 \u001b[39m=\u001b[39m ax_pmx(parent1, parent2)\n\u001b[1;32m    204\u001b[0m \u001b[39melif\u001b[39;00m crossover \u001b[39m==\u001b[39m \u001b[39m\"\u001b[39m\u001b[39mpmx\u001b[39m\u001b[39m\"\u001b[39m:\n\u001b[1;32m    206\u001b[0m     offspring1, offspring2 \u001b[39m=\u001b[39m pmx(parent1, parent2)\n",
      "File \u001b[0;32m~/Desktop/Thesis/human_error/genetic_algorithm/crossover.py:126\u001b[0m, in \u001b[0;36max_pmx\u001b[0;34m(parent_1, parent_2)\u001b[0m\n\u001b[1;32m    123\u001b[0m parent_1_coor_y \u001b[39m=\u001b[39m [i\u001b[39m.\u001b[39mcoord[\u001b[39m1\u001b[39m] \u001b[39mfor\u001b[39;00m i \u001b[39min\u001b[39;00m parent_1\u001b[39m.\u001b[39mpack] \n\u001b[1;32m    124\u001b[0m parent_2_coor_y \u001b[39m=\u001b[39m [i\u001b[39m.\u001b[39mcoord[\u001b[39m1\u001b[39m] \u001b[39mfor\u001b[39;00m i \u001b[39min\u001b[39;00m parent_2\u001b[39m.\u001b[39mpack]\n\u001b[0;32m--> 126\u001b[0m offspring_1 \u001b[39m=\u001b[39m world_encounters\u001b[39m.\u001b[39;49mpack(parent_1\u001b[39m.\u001b[39;49mmap,\u001b[39mtype\u001b[39;49m\u001b[39m=\u001b[39;49mparent_1\u001b[39m.\u001b[39;49mtype, size \u001b[39m=\u001b[39;49m parent_1\u001b[39m.\u001b[39;49msize, encounter_type \u001b[39m=\u001b[39;49m parent_1\u001b[39m.\u001b[39;49mencounter_type)\n\u001b[1;32m    127\u001b[0m offspring_2 \u001b[39m=\u001b[39m world_encounters\u001b[39m.\u001b[39mpack(parent_1\u001b[39m.\u001b[39mmap,\u001b[39mtype\u001b[39m\u001b[39m=\u001b[39mparent_1\u001b[39m.\u001b[39mtype, size \u001b[39m=\u001b[39m parent_1\u001b[39m.\u001b[39msize, encounter_type \u001b[39m=\u001b[39m parent_1\u001b[39m.\u001b[39mencounter_type)\n\u001b[1;32m    129\u001b[0m cut_points \u001b[39m=\u001b[39m [random\u001b[39m.\u001b[39mrandint(\u001b[39m0\u001b[39m,parent_1\u001b[39m.\u001b[39msize\u001b[39m-\u001b[39m\u001b[39m1\u001b[39m)]\n",
      "File \u001b[0;32m~/Desktop/Thesis/human_error/map_manager/world_encounters.py:116\u001b[0m, in \u001b[0;36mpack.__init__\u001b[0;34m(self, map, encounter_type, type, size)\u001b[0m\n\u001b[1;32m    113\u001b[0m     \u001b[39mself\u001b[39m\u001b[39m.\u001b[39mpack\u001b[39m.\u001b[39mappend(ind)\n\u001b[1;32m    115\u001b[0m \u001b[39mself\u001b[39m\u001b[39m.\u001b[39mpack_coord \u001b[39m=\u001b[39m  \u001b[39mself\u001b[39m\u001b[39m.\u001b[39mupdate_pack_coord()\n\u001b[0;32m--> 116\u001b[0m \u001b[39mself\u001b[39m\u001b[39m.\u001b[39mpack_fitness \u001b[39m=\u001b[39m \u001b[39mself\u001b[39;49m\u001b[39m.\u001b[39;49mupdate_pack_fitness()\n",
      "File \u001b[0;32m~/Desktop/Thesis/human_error/map_manager/world_encounters.py:124\u001b[0m, in \u001b[0;36mpack.update_pack_fitness\u001b[0;34m(self)\u001b[0m\n\u001b[1;32m    121\u001b[0m pack_fitness \u001b[39m=\u001b[39m \u001b[39m0\u001b[39m\n\u001b[1;32m    123\u001b[0m \u001b[39mfor\u001b[39;00m ind_s \u001b[39min\u001b[39;00m \u001b[39mself\u001b[39m\u001b[39m.\u001b[39mpack:\n\u001b[0;32m--> 124\u001b[0m     \u001b[39mif\u001b[39;00m ind_s\u001b[39m.\u001b[39;49mcheck_fitness() \u001b[39m>\u001b[39m \u001b[39m-\u001b[39m\u001b[39m1000\u001b[39m:\n\u001b[1;32m    125\u001b[0m         pack_fitness \u001b[39m+\u001b[39m\u001b[39m=\u001b[39m \u001b[39m1\u001b[39m\n\u001b[1;32m    127\u001b[0m \u001b[39mself\u001b[39m\u001b[39m.\u001b[39mpack_fitness \u001b[39m=\u001b[39m pack_fitness\n",
      "File \u001b[0;32m~/Desktop/Thesis/human_error/map_manager/world_encounters.py:60\u001b[0m, in \u001b[0;36mw_encounter.check_fitness\u001b[0;34m(self)\u001b[0m\n\u001b[1;32m     58\u001b[0m x2 \u001b[39m=\u001b[39m (\u001b[39mself\u001b[39m\u001b[39m.\u001b[39mcheck_coor[\u001b[39m0\u001b[39m]\u001b[39m-\u001b[39mcentroid[\u001b[39m0\u001b[39m])\u001b[39m*\u001b[39m\u001b[39m*\u001b[39m\u001b[39m2\u001b[39m\n\u001b[1;32m     59\u001b[0m y2 \u001b[39m=\u001b[39m (\u001b[39mself\u001b[39m\u001b[39m.\u001b[39mcheck_coor[\u001b[39m1\u001b[39m]\u001b[39m-\u001b[39mcentroid[\u001b[39m1\u001b[39m])\u001b[39m*\u001b[39m\u001b[39m*\u001b[39m\u001b[39m2\u001b[39m\n\u001b[0;32m---> 60\u001b[0m dist \u001b[39m=\u001b[39m np\u001b[39m.\u001b[39;49msqrt((x2\u001b[39m+\u001b[39;49my2))\n\u001b[1;32m     62\u001b[0m \u001b[39mif\u001b[39;00m dist \u001b[39m<\u001b[39m min_distance:\n\u001b[1;32m     63\u001b[0m     min_distance \u001b[39m=\u001b[39m dist\n",
      "\u001b[0;31mKeyboardInterrupt\u001b[0m: "
     ]
    }
   ],
   "source": [
    "a,b = pop.evolve(mu_p=0.22,mutation=\"complete\")"
   ]
  },
  {
   "cell_type": "code",
   "execution_count": null,
   "metadata": {},
   "outputs": [],
   "source": []
  },
  {
   "cell_type": "code",
   "execution_count": null,
   "metadata": {},
   "outputs": [],
   "source": [
    "a = [i.check_coor for i in ]\n",
    "cmap = colors.ListedColormap([\"dodgerblue\",\"white\",\"yellowgreen\",\"khaki\",\"lawngreen\",\"slategrey\",\"darkgreen\"])\n",
    "civ = nw.views[\"civilisation\"].copy()\n",
    "ter = nw.views[\"terrain\"].copy()\n",
    "\n",
    "fig, ax = plt.subplots(1,2)\n",
    "fig.set_dpi(150)\n",
    "fig.set_size_inches(12, 8)\n",
    "\n",
    "\n",
    "ax[0].imshow(ter.T,cmap=cmap,alpha=.66)\n",
    "ax[0].set_title(\"Terrain\")\n",
    "ax[0].scatter(x=[i[0] for i in a], y=[i[1] for i in a],color=\"Black\",s=25,marker=\"4\")\n",
    "\n",
    "ax[1].imshow(civ.T,cmap=\"Blues\",alpha=0.66)\n",
    "ax[1].set_title(\"Civilisation\")\n",
    "ax[1].scatter(x=[i[0] for i in a], y=[i[1] for i in a],color=\"Black\",s=25,marker=\"4\")\n",
    "\n"
   ]
  },
  {
   "cell_type": "code",
   "execution_count": null,
   "metadata": {},
   "outputs": [],
   "source": [
    "len(pop.population)"
   ]
  },
  {
   "cell_type": "code",
   "execution_count": null,
   "metadata": {},
   "outputs": [],
   "source": [
    "len(set(pop.population))"
   ]
  },
  {
   "cell_type": "code",
   "execution_count": null,
   "metadata": {},
   "outputs": [],
   "source": [
    "sorted([3,4,5],reverse=True)"
   ]
  },
  {
   "cell_type": "code",
   "execution_count": null,
   "metadata": {},
   "outputs": [],
   "source": []
  }
 ],
 "metadata": {
  "interpreter": {
   "hash": "146f15e2230608c28443929e64adcd60233b3a921e350bba4bd151e87ecd2077"
  },
  "kernelspec": {
   "display_name": "Python 3.8.2 64-bit ('base': conda)",
   "name": "python3"
  },
  "language_info": {
   "codemirror_mode": {
    "name": "ipython",
    "version": 3
   },
   "file_extension": ".py",
   "mimetype": "text/x-python",
   "name": "python",
   "nbconvert_exporter": "python",
   "pygments_lexer": "ipython3",
   "version": "3.8.2"
  },
  "orig_nbformat": 4
 },
 "nbformat": 4,
 "nbformat_minor": 2
}
