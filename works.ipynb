{
 "cells": [
  {
   "cell_type": "code",
   "execution_count": null,
   "metadata": {},
   "outputs": [],
   "source": [
    "from map_manager.map_generator import map\n",
    "from map_manager.noise import toddler\n",
    "from map_manager.world_encounters import *\n",
    "from genetic_algorithm.crossover import * \n",
    "from genetic_algorithm.mutation import * \n",
    "import pickle\n",
    "from matplotlib import colors"
   ]
  },
  {
   "cell_type": "code",
   "execution_count": null,
   "metadata": {},
   "outputs": [],
   "source": [
    "nw = map()\n",
    "\n",
    "nw.populate_map(n_locations=256, name=\"terrain\",relaxed=True,k=100)\n",
    "nw.populate_map(n_locations=256, name=\"civilisation\",relaxed=True,k=100)\n",
    "nw.populate_map(n_locations=256, name=\"threat\",relaxed=True, k=100)\n",
    "nw.populate_map(n_locations=256, name=\"faction\",relaxed=True, k=100)\n",
    "\n",
    "nw.attribute_view(seed_1=24,seed_2=32,map_name=\"terrain\",view_name=\"terrain\")\n",
    "nw.attribute_view(seed_1=40,seed_2=50,map_name=\"civilisation\",view_name=\"civilisation\")\n",
    "nw.attribute_view(seed_1=34,seed_2=34,map_name=\"threat\",view_name=\"threat\",double=False)\n",
    "nw.attribute_view(seed_1=67,seed_2=89,map_name=\"faction\",view_name=\"faction\",double=True)\n",
    "\n",
    "#picklefile = open('nw', 'wb')\n",
    "#pickle.dump(nw, picklefile)\n",
    "#picklefile.close()\n",
    "\n",
    "#with open(\"nw\",\"rb\") as f:\n",
    "#    nw = pickle.load(f)\n",
    "\n",
    "nw.attribute_centroids(\"terrain\")\n",
    "nw.land_mask()\n"
   ]
  },
  {
   "cell_type": "code",
   "execution_count": null,
   "metadata": {},
   "outputs": [],
   "source": [
    "pop = pack_population(nw,pop_size=100,type=\"camel\",pack_size=50,encounter_type=\"friendly_animals\")\n",
    "\n",
    "pop.evolve(200,mu_p=0.22,save=False,mutation=\"complete\")\n"
   ]
  },
  {
   "cell_type": "code",
   "execution_count": null,
   "metadata": {},
   "outputs": [],
   "source": [
    "final_list = []\n",
    "final_coords = []\n",
    "for pack in pop.population:\n",
    "    for ind in pack.pack:\n",
    "        if ind.check_fitness() > -24:\n",
    "            if ind.coord not in final_coords:\n",
    "                final_list.append(ind)\n",
    "                final_coords.append(ind.coord)\n",
    "\n"
   ]
  },
  {
   "cell_type": "code",
   "execution_count": null,
   "metadata": {},
   "outputs": [],
   "source": [
    "a = final_coords\n",
    "cmap = colors.ListedColormap([\"dodgerblue\",\"white\",\"yellowgreen\",\"khaki\",\"lawngreen\",\"slategrey\",\"darkgreen\"])\n",
    "#civ = nw.views[\"civilisation\"].copy()\n",
    "ter = nw.views[\"terrain\"].copy()\n",
    "#thr = nw.views[\"threat\"].copy()\n",
    "#fac = nw.views[\"faction\"].copy()\n",
    "\n",
    "\n",
    "import matplotlib.pyplot as plt\n",
    "import numpy as np \n",
    "\n",
    "fig, ax = plt.subplots(1,1)\n",
    "fig.set_dpi(150)\n",
    "fig.set_size_inches(18, 12)\n",
    "\n",
    "lacunarity = 2\n",
    "\n",
    "##ax[0].imshow(civ,cmap=\"Greens\")\n",
    "##ax[0].set_title(\"Civilisation\")\n",
    "##ax[0].scatter(x=[i[0] for i in a], y=[i[1] for i in a],color=\"Black\", s=4)\n",
    "\n",
    "ax.imshow(ter.T,cmap=cmap)\n",
    "ax.set_title(\"Terrain\")\n",
    "ax.scatter(x=[i[0] for i in a], y=[i[1] for i in a],color=\"Black\",s=10)\n",
    "\n",
    "#for (j,i),label in np.ndenumerate(ter):\n",
    "#    [\"\",\"tundra\",\"rainforest\",\"desert\",\"grassland\",\"mountain\",\"forest\"][int(label)]\n",
    "#    ax.text(i,j,label,ha='center',va='center')\n",
    "\n",
    "\n",
    "\n",
    "\n",
    "\n",
    "#ax[2].imshow(thr,cmap=\"Reds\")\n",
    "#ax[2].set_title(\"Threat\")\n",
    "#ax[2].scatter(x=[i[0] for i in a], y=[i[1] for i in a],color=\"Black\")\n",
    "\n",
    "\n",
    "#ax[3].imshow(fac,cmap=\"Greys\")\n",
    "#ax[3].set_title(\"Factions\")\n",
    "#ax[3].scatter(x=[i[0] for i in a], y=[i[1] for i in a],color=\"Black\")\n",
    "\n"
   ]
  },
  {
   "cell_type": "markdown",
   "metadata": {},
   "source": [
    "[[i/6 for i in range(0,5)],"
   ]
  },
  {
   "cell_type": "code",
   "execution_count": null,
   "metadata": {},
   "outputs": [],
   "source": [
    "!pip install svgpath2mpl\n",
    "!pip install svgpathtools\n",
    "\n",
    "import matplotlib as mpl\n",
    "from svgpathtools import svg2paths\n",
    "from svgpath2mpl import parse_path\n",
    "\n",
    "planet_path, attributes = svg2paths('/Users/cetiners/Desktop/Thesis/human_error/camel-svgrepo-com.svg')\n",
    "\n",
    "planet_marker = parse_path(attributes[0]['d'])\n"
   ]
  },
  {
   "cell_type": "code",
   "execution_count": null,
   "metadata": {},
   "outputs": [],
   "source": [
    "planet_marker.vertices -= planet_marker.vertices.mean(axis=0)\n",
    "\n",
    "planet_marker = planet_marker.transformed(mpl.transforms.Affine2D().rotate_deg(180))\n",
    "planet_marker = planet_marker.transformed(mpl.transforms.Affine2D().scale(-1,1))"
   ]
  },
  {
   "cell_type": "code",
   "execution_count": null,
   "metadata": {},
   "outputs": [],
   "source": []
  }
 ],
 "metadata": {
  "interpreter": {
   "hash": "146f15e2230608c28443929e64adcd60233b3a921e350bba4bd151e87ecd2077"
  },
  "kernelspec": {
   "display_name": "Python 3.8.2 64-bit ('base': conda)",
   "name": "python3"
  },
  "language_info": {
   "codemirror_mode": {
    "name": "ipython",
    "version": 3
   },
   "file_extension": ".py",
   "mimetype": "text/x-python",
   "name": "python",
   "nbconvert_exporter": "python",
   "pygments_lexer": "ipython3",
   "version": "3.8.2"
  },
  "orig_nbformat": 4
 },
 "nbformat": 4,
 "nbformat_minor": 2
}
