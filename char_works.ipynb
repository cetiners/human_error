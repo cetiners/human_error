{
 "cells": [
  {
   "cell_type": "code",
   "execution_count": 19,
   "metadata": {},
   "outputs": [
    {
     "name": "stdout",
     "output_type": "stream",
     "text": [
      "\u001b[H\u001b[2J"
     ]
    }
   ],
   "source": [
    "import random\n",
    "import numpy as np\n",
    "from tools.utils import basic_distance\n",
    "from operator import itemgetter\n",
    "from quest_engine.freytags_fitness import freytags,curate_fitness\n",
    "from map_engine.map_attributer import view_noises\n",
    "from quest_engine.quest_ga.selection import *\n",
    "from quest_engine.quest_ga.crossover import *\n",
    "from quest_engine.quest_ga.mutation import *\n",
    "from character_engine.character import npc\n",
    "import pickle\n",
    "from map_engine.map_generator import map\n",
    "from encounter_engine.world_encounters import *\n",
    "from quest_engine.quest_generator import *\n",
    "import matplotlib.pyplot as plt\n"
   ]
  },
  {
   "cell_type": "code",
   "execution_count": 20,
   "metadata": {},
   "outputs": [],
   "source": [
    "with open(\"map_nw\", \"rb\") as f:\n",
    "    nw = pickle.load(f)"
   ]
  },
  {
   "cell_type": "code",
   "execution_count": 21,
   "metadata": {},
   "outputs": [
    {
     "ename": "NameError",
     "evalue": "name 'w_encounter_manager' is not defined",
     "output_type": "error",
     "traceback": [
      "\u001b[0;31m---------------------------------------------------------------------------\u001b[0m",
      "\u001b[0;31mNameError\u001b[0m                                 Traceback (most recent call last)",
      "\u001b[1;32m/Users/cetiners/Desktop/Thesis/human_error/char_works.ipynb Cell 3\u001b[0m in \u001b[0;36m<cell line: 1>\u001b[0;34m()\u001b[0m\n\u001b[0;32m----> <a href='vscode-notebook-cell:/Users/cetiners/Desktop/Thesis/human_error/char_works.ipynb#W3sZmlsZQ%3D%3D?line=0'>1</a>\u001b[0m encounters \u001b[39m=\u001b[39m w_encounter_manager(nw, [i \u001b[39mfor\u001b[39;00m i \u001b[39min\u001b[39;00m required_n_enc])\n\u001b[1;32m      <a href='vscode-notebook-cell:/Users/cetiners/Desktop/Thesis/human_error/char_works.ipynb#W3sZmlsZQ%3D%3D?line=1'>2</a>\u001b[0m encounters\u001b[39m.\u001b[39mlet_there_be_light()\n",
      "\u001b[0;31mNameError\u001b[0m: name 'w_encounter_manager' is not defined"
     ]
    }
   ],
   "source": [
    "encounters = w_encounter_manager(nw, [i for i in required_n_enc])\n",
    "encounters.let_there_be_light()"
   ]
  },
  {
   "cell_type": "code",
   "execution_count": null,
   "metadata": {},
   "outputs": [],
   "source": []
  }
 ],
 "metadata": {
  "kernelspec": {
   "display_name": "Python 3.8.2 ('base')",
   "language": "python",
   "name": "python3"
  },
  "language_info": {
   "codemirror_mode": {
    "name": "ipython",
    "version": 3
   },
   "file_extension": ".py",
   "mimetype": "text/x-python",
   "name": "python",
   "nbconvert_exporter": "python",
   "pygments_lexer": "ipython3",
   "version": "3.8.2"
  },
  "orig_nbformat": 4,
  "vscode": {
   "interpreter": {
    "hash": "146f15e2230608c28443929e64adcd60233b3a921e350bba4bd151e87ecd2077"
   }
  }
 },
 "nbformat": 4,
 "nbformat_minor": 2
}
