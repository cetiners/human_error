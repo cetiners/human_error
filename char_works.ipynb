{
 "cells": [
  {
   "cell_type": "code",
   "execution_count": 49,
   "metadata": {},
   "outputs": [],
   "source": [
    "import random\n",
    "import numpy as np\n",
    "from tools.utils import basic_distance\n",
    "from operator import itemgetter\n",
    "from quest_engine.freytags_fitness import freytags,curate_fitness\n",
    "from map_engine.map_attributer import view_noises\n",
    "from quest_engine.quest_ga.selection import *\n",
    "from quest_engine.quest_ga.crossover import *\n",
    "from quest_engine.quest_ga.mutation import *\n",
    "from character_engine.character import npc\n",
    "import pickle\n"
   ]
  },
  {
   "cell_type": "code",
   "execution_count": 50,
   "metadata": {},
   "outputs": [],
   "source": [
    "with open(\"map_nw\", \"rb\") as f:\n",
    "    nw = pickle.load(f)"
   ]
  },
  {
   "cell_type": "code",
   "execution_count": 68,
   "metadata": {},
   "outputs": [
    {
     "name": "stdout",
     "output_type": "stream",
     "text": [
      "Meet Hurnangra Darkhammer!, a npc\n",
      "\n",
      "Character race: Hill Dwarf\n",
      "Character class: Wizard\n",
      "\n",
      " Strength: 11.0 \n",
      " Dexterity: 15.0 \n",
      " Constitution 13.0 \n",
      " Intelligence: 10.0 \n",
      " Wisdom: 12.0 \n",
      " Charisma: 8.0\n",
      "A Medium sized adventurer with a speed of 4.166666666666667 feet per second.\n",
      "Hurnangra Darkhammer starts this adventure with 0 coins.\n",
      "{}\n"
     ]
    }
   ],
   "source": [
    "s = npc(map=nw)\n",
    "s.character_sheet()"
   ]
  },
  {
   "cell_type": "code",
   "execution_count": 56,
   "metadata": {},
   "outputs": [
    {
     "name": "stdout",
     "output_type": "stream",
     "text": [
      "Meet Somwell of Kirkwick!, a npc\n",
      "\n",
      "Character race: Half-Orc\n",
      "Character class: Sorcerer\n",
      "\n",
      " Strength: 13.0 \n",
      " Dexterity: 13.0 \n",
      " Constitution 15.0 \n",
      " Intelligence: 11.0 \n",
      " Wisdom: 11.0 \n",
      " Charisma: 9.0\n",
      "A Medium sized adventurer with a speed of 5.0 feet per second.\n",
      "Somwell of Kirkwick starts this adventure with 12 coins.\n",
      "{}\n"
     ]
    }
   ],
   "source": []
  },
  {
   "cell_type": "code",
   "execution_count": null,
   "metadata": {},
   "outputs": [],
   "source": [
    "s.attributes\n"
   ]
  },
  {
   "cell_type": "code",
   "execution_count": null,
   "metadata": {},
   "outputs": [],
   "source": [
    "s.level_up(4)\n",
    "s.mod_attributes"
   ]
  },
  {
   "cell_type": "code",
   "execution_count": null,
   "metadata": {},
   "outputs": [],
   "source": []
  }
 ],
 "metadata": {
  "kernelspec": {
   "display_name": "Python 3.8.2 ('base')",
   "language": "python",
   "name": "python3"
  },
  "language_info": {
   "codemirror_mode": {
    "name": "ipython",
    "version": 3
   },
   "file_extension": ".py",
   "mimetype": "text/x-python",
   "name": "python",
   "nbconvert_exporter": "python",
   "pygments_lexer": "ipython3",
   "version": "3.8.2"
  },
  "orig_nbformat": 4,
  "vscode": {
   "interpreter": {
    "hash": "146f15e2230608c28443929e64adcd60233b3a921e350bba4bd151e87ecd2077"
   }
  }
 },
 "nbformat": 4,
 "nbformat_minor": 2
}
